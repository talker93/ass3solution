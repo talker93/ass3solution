{
 "cells": [
  {
   "cell_type": "code",
   "execution_count": null,
   "metadata": {},
   "outputs": [],
   "source": [
    "import numpy as np\n",
    "import math\n",
    "import scipy as sp\n",
    "import matplotlib.pyplot as plt\n",
    "from scipy.io.wavfile import read as wavread\n",
    "def ToolReadAudio(cAudioFilePath):    \n",
    "    [samplerate, x] = wavread(cAudioFilePath)    \n",
    "    if x.dtype == 'float32':        \n",
    "        audio = x    \n",
    "    else:        \n",
    "        # change range to [-1,1)        \n",
    "        if x.dtype == 'uint8':            \n",
    "            nbits = 8        \n",
    "        elif x.dtype == 'int16':            \n",
    "            nbits = 16        \n",
    "        elif x.dtype == 'int32':            \n",
    "            nbits = 32        \n",
    "        audio = x / float(2**(nbits - 1))    \n",
    "        # special case of unsigned format    \n",
    "    if x.dtype == 'uint8':        \n",
    "        audio = audio - 1.    \n",
    "    return (samplerate, audio)\n",
    "def block_audio(x,blockSize,hopSize,fs):\n",
    "    # allocate memory\n",
    "    numBlocks = math.ceil(x.size / hopSize)\n",
    "    xb = np.zeros([numBlocks, blockSize])\n",
    "    # compute time stamps\n",
    "    t = (np.arange(0, numBlocks) * hopSize) / fs\n",
    "    x = np.concatenate((x, np.zeros(blockSize)),axis=0)\n",
    "    for n in range(0, numBlocks):\n",
    "        i_start = n * hopSize\n",
    "        i_stop = np.min([x.size - 1, i_start + blockSize - 1])\n",
    "        xb[n][np.arange(0,blockSize)] = x[np.arange(i_start, i_stop + 1)]\n",
    "    return (xb,t)"
   ]
  },
  {
   "cell_type": "code",
   "execution_count": 115,
   "metadata": {},
   "outputs": [
    {
     "name": "stdout",
     "output_type": "stream",
     "text": [
      "44\n"
     ]
    }
   ],
   "source": [
    "fs=44100\n",
    "test_aud = np.sin(2*np.pi*1500*np.arange(1 * fs)/fs)\n",
    "test_blocked,t = block_audio(test_aud,2048, 1024, fs)\n",
    "print(math.ceil(test_aud.size / 1024))"
   ]
  },
  {
   "cell_type": "markdown",
   "metadata": {},
   "source": [
    "# A. Maximum spectral peak based pitch tracker \n",
    "\n",
    "\n",
    "- [5 points] Implement a function [X, fInHz] = compute_spectrogram(xb, fs) that computes the magnitude spectrum for each block of audio in xb (calculated using the reference block_audio() from previous assignments) and returns the magnitude spectrogram X (dimensions blockSize/2+1 X numBlocks) and a frequency vector fInHz (dim blockSize/2+1,) containing the central frequency of each bin. Do not use any third party spectrogram function. Note: remove the redundant part of the spectrum. Also note that you will have to apply a von-Hann window of appropriate length to the blocks before computing the fft. \n",
    "   \n",
    "- [10 points] Implement a function: [f0, timeInSec] = track_pitch_fftmax(x, blockSize, hopSize, fs) that estimates the fundamental frequency f0 of the audio signal based on a block-wise maximum spectral peak finding approach. Note: This function should use compute_spectrogram().  \n",
    "  \n",
    "- [5 points] If the blockSize = 1024 for blocking, what is the exact time resolution of your pitch tracker? Can this be improved without changing the block-size? If yes, how? If no, why? (Use a sampling rate of 44100Hz for all calculations).  "
   ]
  },
  {
   "cell_type": "markdown",
   "metadata": {},
   "source": [
    "## Spectrogram"
   ]
  },
  {
   "cell_type": "code",
   "execution_count": 131,
   "metadata": {},
   "outputs": [],
   "source": [
    "def compute_hann(iWindowLength):\n",
    "    return 0.5 - (0.5 * np.cos(2 * np.pi / iWindowLength * \n",
    "np.arange(iWindowLength)))\n",
    "def compute_spectrogram(xb,fs):\n",
    "    numBlocks = xb.shape[0]\n",
    "    afWindow = compute_hann(xb.shape[1])\n",
    "    X = np.zeros([math.ceil(xb.shape[1]/2+1), numBlocks])\n",
    "    freq=np.fft.fftfreq(xb[0].size,1/fs)\n",
    "    freqs = freq[:int(xb[0].size/2)+1]\n",
    "    for n in range(0, numBlocks):\n",
    "        # apply window\n",
    "        tmp = abs(np.fft.fft(xb[n,:] * afWindow))*2/xb.shape[1]\n",
    "        # freq=np.fft.fftfreq(xb[0].size,1/fs)\n",
    "        # freqs[n]=freq[:int(xb[0].size/2)+1]\n",
    "        # compute magnitude spectum\n",
    "        X[:,n] = tmp[range(math.ceil(tmp.size/2+1))] \n",
    "        X[[0,math.ceil(tmp.size/2)],n]= X[[0,math.ceil(tmp.size/2)],n]/np.sqrt(2) \n",
    "    return X,freqs"
   ]
  },
  {
   "cell_type": "markdown",
   "metadata": {},
   "source": [
    "### Testing Spectrogram"
   ]
  },
  {
   "cell_type": "code",
   "execution_count": 132,
   "metadata": {},
   "outputs": [],
   "source": [
    "S,f = compute_spectrogram(test_blocked, 44100)"
   ]
  },
  {
   "cell_type": "code",
   "execution_count": 133,
   "metadata": {},
   "outputs": [
    {
     "data": {
      "text/plain": [
       "(1025, 44)"
      ]
     },
     "execution_count": 133,
     "metadata": {},
     "output_type": "execute_result"
    }
   ],
   "source": [
    "S.shape"
   ]
  },
  {
   "cell_type": "code",
   "execution_count": 152,
   "metadata": {},
   "outputs": [
    {
     "data": {
      "text/plain": [
       "1507.32421875"
      ]
     },
     "execution_count": 152,
     "metadata": {},
     "output_type": "execute_result"
    }
   ],
   "source": [
    "f[np.argmax(S.T[0])]"
   ]
  },
  {
   "cell_type": "code",
   "execution_count": 160,
   "metadata": {},
   "outputs": [],
   "source": [
    "def plot_spectrogram(spectrogram, fs, hopSize):\n",
    "    t = hopSize*np.arange(spectrogram.shape[1])/fs\n",
    "    f = np.arange(0,fs/2, fs/2/spectrogram.shape[0])\n",
    "\n",
    "    plt.figure(figsize = (15, 7))\n",
    "    plt.xlabel('Time (s)')\n",
    "    plt.ylabel('Freq (Hz)')\n",
    "    plt.pcolormesh(t, f, spectrogram)\n",
    "    plt.show()"
   ]
  },
  {
   "cell_type": "code",
   "execution_count": 161,
   "metadata": {},
   "outputs": [
    {
     "name": "stderr",
     "output_type": "stream",
     "text": [
      "<ipython-input-160-3e366e55ef79>:8: MatplotlibDeprecationWarning:\n",
      "\n",
      "shading='flat' when X and Y have the same dimensions as C is deprecated since 3.3.  Either specify the corners of the quadrilaterals with X and Y, or pass shading='auto', 'nearest' or 'gouraud', or set rcParams['pcolor.shading'].  This will become an error two minor releases later.\n",
      "\n"
     ]
    },
    {
     "data": {
      "image/png": "[encoded data removed]",
      "text/plain": [
       "<Figure size 1080x504 with 1 Axes>"
      ]
     },
     "metadata": {
      "needs_background": "light"
     },
     "output_type": "display_data"
    }
   ],
   "source": [
    "plot_spectrogram(S,44100,1024)"
   ]
  },
  {
   "cell_type": "markdown",
   "metadata": {},
   "source": [
    "Plotting spectrum to test"
   ]
  },
  {
   "cell_type": "code",
   "execution_count": 153,
   "metadata": {},
   "outputs": [
    {
     "data": {
      "application/vnd.plotly.v1+json": {
       "config": {
        "plotlyServerURL": "https://plot.ly"
       },
       "data": [
        {
         "hovertemplate": "x=%{x}<br>y=%{y}<extra></extra>",
         "legendgroup": "",
         "line": {
          "color": "#636efa",
          "dash": "solid"
         },
         "mode": "lines",
         "name": "",
         "showlegend": false,
         "type": "scattergl",
         "x": [
          0,
          21.533203125,
          43.06640625,
          64.599609375,
          86.1328125,
          107.666015625,
          129.19921875,
          150.732421875,
          172.265625,
          193.798828125,
          215.33203125,
          236.865234375,
          258.3984375,
          279.931640625,
          301.46484375,
          322.998046875,
          344.53125,
          366.064453125,
          387.59765625,
          409.130859375,
          430.6640625,
          452.197265625,
          473.73046875,
          495.263671875,
          516.796875,
          538.330078125,
          559.86328125,
          581.396484375,
          602.9296875,
          624.462890625,
          645.99609375,
          667.529296875,
          689.0625,
          710.595703125,
          732.12890625,
          753.662109375,
          775.1953125,
          796.728515625,
          818.26171875,
          839.794921875,
          861.328125,
          882.861328125,
          904.39453125,
          925.927734375,
          947.4609375,
          968.994140625,
          990.52734375,
          1012.060546875,
          1033.59375,
          1055.126953125,
          1076.66015625,
          1098.193359375,
          1119.7265625,
          1141.259765625,
          1162.79296875,
          1184.326171875,
          1205.859375,
          1227.392578125,
          1248.92578125,
          1270.458984375,
          1291.9921875,
          1313.525390625,
          1335.05859375,
          1356.591796875,
          1378.125,
          1399.658203125,
          1421.19140625,
          1442.724609375,
          1464.2578125,
          1485.791015625,
          1507.32421875,
          1528.857421875,
          1550.390625,
          1571.923828125,
          1593.45703125,
          1614.990234375,
          1636.5234375,
          1658.056640625,
          1679.58984375,
          1701.123046875,
          1722.65625,
          1744.189453125,
          1765.72265625,
          1787.255859375,
          1808.7890625,
          1830.322265625,
          1851.85546875,
          1873.388671875,
          1894.921875,
          1916.455078125,
          1937.98828125,
          1959.521484375,
          1981.0546875,
          2002.587890625,
          2024.12109375,
          2045.654296875,
          2067.1875,
          2088.720703125,
          2110.25390625,
          2131.787109375,
          2153.3203125,
          2174.853515625,
          2196.38671875,
          2217.919921875,
          2239.453125,
          2260.986328125,
          2282.51953125,
          2304.052734375,
          2325.5859375,
          2347.119140625,
          2368.65234375,
          2390.185546875,
          2411.71875,
          2433.251953125,
          2454.78515625,
          2476.318359375,
          2497.8515625,
          2519.384765625,
          2540.91796875,
          2562.451171875,
          2583.984375,
          2605.517578125,
          2627.05078125,
          2648.583984375,
          2670.1171875,
          2691.650390625,
          2713.18359375,
          2734.716796875,
          2756.25,
          2777.783203125,
          2799.31640625,
          2820.849609375,
          2842.3828125,
          2863.916015625,
          2885.44921875,
          2906.982421875,
          2928.515625,
          2950.048828125,
          2971.58203125,
          2993.115234375,
          3014.6484375,
          3036.181640625,
          3057.71484375,
          3079.248046875,
          3100.78125,
          3122.314453125,
          3143.84765625,
          3165.380859375,
          3186.9140625,
          3208.447265625,
          3229.98046875,
          3251.513671875,
          3273.046875,
          3294.580078125,
          3316.11328125,
          3337.646484375,
          3359.1796875,
          3380.712890625,
          3402.24609375,
          3423.779296875,
          3445.3125,
          3466.845703125,
          3488.37890625,
          3509.912109375,
          3531.4453125,
          3552.978515625,
          3574.51171875,
          3596.044921875,
          3617.578125,
          3639.111328125,
          3660.64453125,
          3682.177734375,
          3703.7109375,
          3725.244140625,
          3746.77734375,
          3768.310546875,
          3789.84375,
          3811.376953125,
          3832.91015625,
          3854.443359375,
          3875.9765625,
          3897.509765625,
          3919.04296875,
          3940.576171875,
          3962.109375,
          3983.642578125,
          4005.17578125,
          4026.708984375,
          4048.2421875,
          4069.775390625,
          4091.30859375,
          4112.841796875,
          4134.375,
          4155.908203125,
          4177.44140625,
          4198.974609375,
          4220.5078125,
          4242.041015625,
          4263.57421875,
          4285.107421875,
          4306.640625,
          4328.173828125,
          4349.70703125,
          4371.240234375,
          4392.7734375,
          4414.306640625,
          4435.83984375,
          4457.373046875,
          4478.90625,
          4500.439453125,
          4521.97265625,
          4543.505859375,
          4565.0390625,
          4586.572265625,
          4608.10546875,
          4629.638671875,
          4651.171875,
          4672.705078125,
          4694.23828125,
          4715.771484375,
          4737.3046875,
          4758.837890625,
          4780.37109375,
          4801.904296875,
          4823.4375,
          4844.970703125,
          4866.50390625,
          4888.037109375,
          4909.5703125,
          4931.103515625,
          4952.63671875,
          4974.169921875,
          4995.703125,
          5017.236328125,
          5038.76953125,
          5060.302734375,
          5081.8359375,
          5103.369140625,
          5124.90234375,
          5146.435546875,
          5167.96875,
          5189.501953125,
          5211.03515625,
          5232.568359375,
          5254.1015625,
          5275.634765625,
          5297.16796875,
          5318.701171875,
          5340.234375,
          5361.767578125,
          5383.30078125,
          5404.833984375,
          5426.3671875,
          5447.900390625,
          5469.43359375,
          5490.966796875,
          5512.5,
          5534.033203125,
          5555.56640625,
          5577.099609375,
          5598.6328125,
          5620.166015625,
          5641.69921875,
          5663.232421875,
          5684.765625,
          5706.298828125,
          5727.83203125,
          5749.365234375,
          5770.8984375,
          5792.431640625,
          5813.96484375,
          5835.498046875,
          5857.03125,
          5878.564453125,
          5900.09765625,
          5921.630859375,
          5943.1640625,
          5964.697265625,
          5986.23046875,
          6007.763671875,
          6029.296875,
          6050.830078125,
          6072.36328125,
          6093.896484375,
          6115.4296875,
          6136.962890625,
          6158.49609375,
          6180.029296875,
          6201.5625,
          6223.095703125,
          6244.62890625,
          6266.162109375,
          6287.6953125,
          6309.228515625,
          6330.76171875,
          6352.294921875,
          6373.828125,
          6395.361328125,
          6416.89453125,
          6438.427734375,
          6459.9609375,
          6481.494140625,
          6503.02734375,
          6524.560546875,
          6546.09375,
          6567.626953125,
          6589.16015625,
          6610.693359375,
          6632.2265625,
          6653.759765625,
          6675.29296875,
          6696.826171875,
          6718.359375,
          6739.892578125,
          6761.42578125,
          6782.958984375,
          6804.4921875,
          6826.025390625,
          6847.55859375,
          6869.091796875,
          6890.625,
          6912.158203125,
          6933.69140625,
          6955.224609375,
          6976.7578125,
          6998.291015625,
          7019.82421875,
          7041.357421875,
          7062.890625,
          7084.423828125,
          7105.95703125,
          7127.490234375,
          7149.0234375,
          7170.556640625,
          7192.08984375,
          7213.623046875,
          7235.15625,
          7256.689453125,
          7278.22265625,
          7299.755859375,
          7321.2890625,
          7342.822265625,
          7364.35546875,
          7385.888671875,
          7407.421875,
          7428.955078125,
          7450.48828125,
          7472.021484375,
          7493.5546875,
          7515.087890625,
          7536.62109375,
          7558.154296875,
          7579.6875,
          7601.220703125,
          7622.75390625,
          7644.287109375,
          7665.8203125,
          7687.353515625,
          7708.88671875,
          7730.419921875,
          7751.953125,
          7773.486328125,
          7795.01953125,
          7816.552734375,
          7838.0859375,
          7859.619140625,
          7881.15234375,
          7902.685546875,
          7924.21875,
          7945.751953125,
          7967.28515625,
          7988.818359375,
          8010.3515625,
          8031.884765625,
          8053.41796875,
          8074.951171875,
          8096.484375,
          8118.017578125,
          8139.55078125,
          8161.083984375,
          8182.6171875,
          8204.150390625,
          8225.68359375,
          8247.216796875,
          8268.75,
          8290.283203125,
          8311.81640625,
          8333.349609375,
          8354.8828125,
          8376.416015625,
          8397.94921875,
          8419.482421875,
          8441.015625,
          8462.548828125,
          8484.08203125,
          8505.615234375,
          8527.1484375,
          8548.681640625,
          8570.21484375,
          8591.748046875,
          8613.28125,
          8634.814453125,
          8656.34765625,
          8677.880859375,
          8699.4140625,
          8720.947265625,
          8742.48046875,
          8764.013671875,
          8785.546875,
          8807.080078125,
          8828.61328125,
          8850.146484375,
          8871.6796875,
          8893.212890625,
          8914.74609375,
          8936.279296875,
          8957.8125,
          8979.345703125,
          9000.87890625,
          9022.412109375,
          9043.9453125,
          9065.478515625,
          9087.01171875,
          9108.544921875,
          9130.078125,
          9151.611328125,
          9173.14453125,
          9194.677734375,
          9216.2109375,
          9237.744140625,
          9259.27734375,
          9280.810546875,
          9302.34375,
          9323.876953125,
          9345.41015625,
          9366.943359375,
          9388.4765625,
          9410.009765625,
          9431.54296875,
          9453.076171875,
          9474.609375,
          9496.142578125,
          9517.67578125,
          9539.208984375,
          9560.7421875,
          9582.275390625,
          9603.80859375,
          9625.341796875,
          9646.875,
          9668.408203125,
          9689.94140625,
          9711.474609375,
          9733.0078125,
          9754.541015625,
          9776.07421875,
          9797.607421875,
          9819.140625,
          9840.673828125,
          9862.20703125,
          9883.740234375,
          9905.2734375,
          9926.806640625,
          9948.33984375,
          9969.873046875,
          9991.40625,
          10012.939453125,
          10034.47265625,
          10056.005859375,
          10077.5390625,
          10099.072265625,
          10120.60546875,
          10142.138671875,
          10163.671875,
          10185.205078125,
          10206.73828125,
          10228.271484375,
          10249.8046875,
          10271.337890625,
          10292.87109375,
          10314.404296875,
          10335.9375,
          10357.470703125,
          10379.00390625,
          10400.537109375,
          10422.0703125,
          10443.603515625,
          10465.13671875,
          10486.669921875,
          10508.203125,
          10529.736328125,
          10551.26953125,
          10572.802734375,
          10594.3359375,
          10615.869140625,
          10637.40234375,
          10658.935546875,
          10680.46875,
          10702.001953125,
          10723.53515625,
          10745.068359375,
          10766.6015625,
          10788.134765625,
          10809.66796875,
          10831.201171875,
          10852.734375,
          10874.267578125,
          10895.80078125,
          10917.333984375,
          10938.8671875,
          10960.400390625,
          10981.93359375,
          11003.466796875,
          11025,
          11046.533203125,
          11068.06640625,
          11089.599609375,
          11111.1328125,
          11132.666015625,
          11154.19921875,
          11175.732421875,
          11197.265625,
          11218.798828125,
          11240.33203125,
          11261.865234375,
          11283.3984375,
          11304.931640625,
          11326.46484375,
          11347.998046875,
          11369.53125,
          11391.064453125,
          11412.59765625,
          11434.130859375,
          11455.6640625,
          11477.197265625,
          11498.73046875,
          11520.263671875,
          11541.796875,
          11563.330078125,
          11584.86328125,
          11606.396484375,
          11627.9296875,
          11649.462890625,
          11670.99609375,
          11692.529296875,
          11714.0625,
          11735.595703125,
          11757.12890625,
          11778.662109375,
          11800.1953125,
          11821.728515625,
          11843.26171875,
          11864.794921875,
          11886.328125,
          11907.861328125,
          11929.39453125,
          11950.927734375,
          11972.4609375,
          11993.994140625,
          12015.52734375,
          12037.060546875,
          12058.59375,
          12080.126953125,
          12101.66015625,
          12123.193359375,
          12144.7265625,
          12166.259765625,
          12187.79296875,
          12209.326171875,
          12230.859375,
          12252.392578125,
          12273.92578125,
          12295.458984375,
          12316.9921875,
          12338.525390625,
          12360.05859375,
          12381.591796875,
          12403.125,
          12424.658203125,
          12446.19140625,
          12467.724609375,
          12489.2578125,
          12510.791015625,
          12532.32421875,
          12553.857421875,
          12575.390625,
          12596.923828125,
          12618.45703125,
          12639.990234375,
          12661.5234375,
          12683.056640625,
          12704.58984375,
          12726.123046875,
          12747.65625,
          12769.189453125,
          12790.72265625,
          12812.255859375,
          12833.7890625,
          12855.322265625,
          12876.85546875,
          12898.388671875,
          12919.921875,
          12941.455078125,
          12962.98828125,
          12984.521484375,
          13006.0546875,
          13027.587890625,
          13049.12109375,
          13070.654296875,
          13092.1875,
          13113.720703125,
          13135.25390625,
          13156.787109375,
          13178.3203125,
          13199.853515625,
          13221.38671875,
          13242.919921875,
          13264.453125,
          13285.986328125,
          13307.51953125,
          13329.052734375,
          13350.5859375,
          13372.119140625,
          13393.65234375,
          13415.185546875,
          13436.71875,
          13458.251953125,
          13479.78515625,
          13501.318359375,
          13522.8515625,
          13544.384765625,
          13565.91796875,
          13587.451171875,
          13608.984375,
          13630.517578125,
          13652.05078125,
          13673.583984375,
          13695.1171875,
          13716.650390625,
          13738.18359375,
          13759.716796875,
          13781.25,
          13802.783203125,
          13824.31640625,
          13845.849609375,
          13867.3828125,
          13888.916015625,
          13910.44921875,
          13931.982421875,
          13953.515625,
          13975.048828125,
          13996.58203125,
          14018.115234375,
          14039.6484375,
          14061.181640625,
          14082.71484375,
          14104.248046875,
          14125.78125,
          14147.314453125,
          14168.84765625,
          14190.380859375,
          14211.9140625,
          14233.447265625,
          14254.98046875,
          14276.513671875,
          14298.046875,
          14319.580078125,
          14341.11328125,
          14362.646484375,
          14384.1796875,
          14405.712890625,
          14427.24609375,
          14448.779296875,
          14470.3125,
          14491.845703125,
          14513.37890625,
          14534.912109375,
          14556.4453125,
          14577.978515625,
          14599.51171875,
          14621.044921875,
          14642.578125,
          14664.111328125,
          14685.64453125,
          14707.177734375,
          14728.7109375,
          14750.244140625,
          14771.77734375,
          14793.310546875,
          14814.84375,
          14836.376953125,
          14857.91015625,
          14879.443359375,
          14900.9765625,
          14922.509765625,
          14944.04296875,
          14965.576171875,
          14987.109375,
          15008.642578125,
          15030.17578125,
          15051.708984375,
          15073.2421875,
          15094.775390625,
          15116.30859375,
          15137.841796875,
          15159.375,
          15180.908203125,
          15202.44140625,
          15223.974609375,
          15245.5078125,
          15267.041015625,
          15288.57421875,
          15310.107421875,
          15331.640625,
          15353.173828125,
          15374.70703125,
          15396.240234375,
          15417.7734375,
          15439.306640625,
          15460.83984375,
          15482.373046875,
          15503.90625,
          15525.439453125,
          15546.97265625,
          15568.505859375,
          15590.0390625,
          15611.572265625,
          15633.10546875,
          15654.638671875,
          15676.171875,
          15697.705078125,
          15719.23828125,
          15740.771484375,
          15762.3046875,
          15783.837890625,
          15805.37109375,
          15826.904296875,
          15848.4375,
          15869.970703125,
          15891.50390625,
          15913.037109375,
          15934.5703125,
          15956.103515625,
          15977.63671875,
          15999.169921875,
          16020.703125,
          16042.236328125,
          16063.76953125,
          16085.302734375,
          16106.8359375,
          16128.369140625,
          16149.90234375,
          16171.435546875,
          16192.96875,
          16214.501953125,
          16236.03515625,
          16257.568359375,
          16279.1015625,
          16300.634765625,
          16322.16796875,
          16343.701171875,
          16365.234375,
          16386.767578125,
          16408.30078125,
          16429.833984375,
          16451.3671875,
          16472.900390625,
          16494.43359375,
          16515.966796875,
          16537.5,
          16559.033203125,
          16580.56640625,
          16602.099609375,
          16623.6328125,
          16645.166015625,
          16666.69921875,
          16688.232421875,
          16709.765625,
          16731.298828125,
          16752.83203125,
          16774.365234375,
          16795.8984375,
          16817.431640625,
          16838.96484375,
          16860.498046875,
          16882.03125,
          16903.564453125,
          16925.09765625,
          16946.630859375,
          16968.1640625,
          16989.697265625,
          17011.23046875,
          17032.763671875,
          17054.296875,
          17075.830078125,
          17097.36328125,
          17118.896484375,
          17140.4296875,
          17161.962890625,
          17183.49609375,
          17205.029296875,
          17226.5625,
          17248.095703125,
          17269.62890625,
          17291.162109375,
          17312.6953125,
          17334.228515625,
          17355.76171875,
          17377.294921875,
          17398.828125,
          17420.361328125,
          17441.89453125,
          17463.427734375,
          17484.9609375,
          17506.494140625,
          17528.02734375,
          17549.560546875,
          17571.09375,
          17592.626953125,
          17614.16015625,
          17635.693359375,
          17657.2265625,
          17678.759765625,
          17700.29296875,
          17721.826171875,
          17743.359375,
          17764.892578125,
          17786.42578125,
          17807.958984375,
          17829.4921875,
          17851.025390625,
          17872.55859375,
          17894.091796875,
          17915.625,
          17937.158203125,
          17958.69140625,
          17980.224609375,
          18001.7578125,
          18023.291015625,
          18044.82421875,
          18066.357421875,
          18087.890625,
          18109.423828125,
          18130.95703125,
          18152.490234375,
          18174.0234375,
          18195.556640625,
          18217.08984375,
          18238.623046875,
          18260.15625,
          18281.689453125,
          18303.22265625,
          18324.755859375,
          18346.2890625,
          18367.822265625,
          18389.35546875,
          18410.888671875,
          18432.421875,
          18453.955078125,
          18475.48828125,
          18497.021484375,
          18518.5546875,
          18540.087890625,
          18561.62109375,
          18583.154296875,
          18604.6875,
          18626.220703125,
          18647.75390625,
          18669.287109375,
          18690.8203125,
          18712.353515625,
          18733.88671875,
          18755.419921875,
          18776.953125,
          18798.486328125,
          18820.01953125,
          18841.552734375,
          18863.0859375,
          18884.619140625,
          18906.15234375,
          18927.685546875,
          18949.21875,
          18970.751953125,
          18992.28515625,
          19013.818359375,
          19035.3515625,
          19056.884765625,
          19078.41796875,
          19099.951171875,
          19121.484375,
          19143.017578125,
          19164.55078125,
          19186.083984375,
          19207.6171875,
          19229.150390625,
          19250.68359375,
          19272.216796875,
          19293.75,
          19315.283203125,
          19336.81640625,
          19358.349609375,
          19379.8828125,
          19401.416015625,
          19422.94921875,
          19444.482421875,
          19466.015625,
          19487.548828125,
          19509.08203125,
          19530.615234375,
          19552.1484375,
          19573.681640625,
          19595.21484375,
          19616.748046875,
          19638.28125,
          19659.814453125,
          19681.34765625,
          19702.880859375,
          19724.4140625,
          19745.947265625,
          19767.48046875,
          19789.013671875,
          19810.546875,
          19832.080078125,
          19853.61328125,
          19875.146484375,
          19896.6796875,
          19918.212890625,
          19939.74609375,
          19961.279296875,
          19982.8125,
          20004.345703125,
          20025.87890625,
          20047.412109375,
          20068.9453125,
          20090.478515625,
          20112.01171875,
          20133.544921875,
          20155.078125,
          20176.611328125,
          20198.14453125,
          20219.677734375,
          20241.2109375,
          20262.744140625,
          20284.27734375,
          20305.810546875,
          20327.34375,
          20348.876953125,
          20370.41015625,
          20391.943359375,
          20413.4765625,
          20435.009765625,
          20456.54296875,
          20478.076171875,
          20499.609375,
          20521.142578125,
          20542.67578125,
          20564.208984375,
          20585.7421875,
          20607.275390625,
          20628.80859375,
          20650.341796875,
          20671.875,
          20693.408203125,
          20714.94140625,
          20736.474609375,
          20758.0078125,
          20779.541015625,
          20801.07421875,
          20822.607421875,
          20844.140625,
          20865.673828125,
          20887.20703125,
          20908.740234375,
          20930.2734375,
          20951.806640625,
          20973.33984375,
          20994.873046875,
          21016.40625,
          21037.939453125,
          21059.47265625,
          21081.005859375,
          21102.5390625,
          21124.072265625,
          21145.60546875,
          21167.138671875,
          21188.671875,
          21210.205078125,
          21231.73828125,
          21253.271484375,
          21274.8046875,
          21296.337890625,
          21317.87109375,
          21339.404296875,
          21360.9375,
          21382.470703125,
          21404.00390625,
          21425.537109375,
          21447.0703125,
          21468.603515625,
          21490.13671875,
          21511.669921875,
          21533.203125,
          21554.736328125,
          21576.26953125,
          21597.802734375,
          21619.3359375,
          21640.869140625,
          21662.40234375,
          21683.935546875,
          21705.46875,
          21727.001953125,
          21748.53515625,
          21770.068359375,
          21791.6015625,
          21813.134765625,
          21834.66796875,
          21856.201171875,
          21877.734375,
          21899.267578125,
          21920.80078125,
          21942.333984375,
          21963.8671875,
          21985.400390625,
          22006.93359375,
          22028.466796875
         ],
         "xaxis": "x",
         "y": [
          5.116691430096807e-7,
          7.247073734711667e-7,
          7.28006714666338e-7,
          7.335241991251057e-7,
          7.41288033529897e-7,
          7.513383769495558e-7,
          7.637280128704821e-7,
          7.785232133885232e-7,
          7.958048089812387e-7,
          8.156694641467037e-7,
          8.382311776944213e-7,
          8.636230250380801e-7,
          8.919991665512056e-7,
          9.235371621980208e-7,
          9.584406195125427e-7,
          9.96942263154877e-7,
          0.0000010393074423282088,
          0.000001085838201748571,
          0.000001136878001532681,
          0.0000011928171845059115,
          0.0000012540993570835533,
          0.0000013212288629445087,
          0.0000013947795278383146,
          0.0000014754049653809827,
          0.0000015638507437546933,
          0.000001660968793236487,
          0.0000017677345405407975,
          0.0000018852673523992413,
          0.0000020148550209225687,
          0.0000021579832095116247,
          0.0000023163710140938077,
          0.000002492014099952698,
          0.0000026872372701376536,
          0.0000029047588489854406,
          0.0000031477699478949925,
          0.000003420032583177342,
          0.0000037260018525205428,
          0.000004070978996873359,
          0.0000044613044161848504,
          0.000004904602767315329,
          0.000005410096484422871,
          0.000005989009998478672,
          0.000006655095264740328,
          0.000007425321147312012,
          0.000008320786458393372,
          0.000009367941737412458,
          0.000010600242379285191,
          0.000012060412353916895,
          0.000013803584502459438,
          0.00001590171869152989,
          0.00001844991416293549,
          0.000021575581414378254,
          0.000025452018387952574,
          0.00003031892220138256,
          0.00003651409429316521,
          0.00004452371392890897,
          0.000055064380462795356,
          0.00006922144597994573,
          0.00008869116363712494,
          0.00011622337575876404,
          0.0001564731581145406,
          0.0002177419257140455,
          0.0003158099997138711,
          0.0004831863602447508,
          0.0007942382668759705,
          0.0014452510531909202,
          0.0030752815746241434,
          0.00863342007703948,
          0.04788419595657119,
          0.37445415995203496,
          0.46379100147588304,
          0.13077824193894008,
          0.013317516323747542,
          0.004112130809393561,
          0.0018019898733459855,
          0.0009493201511724636,
          0.000561312233843593,
          0.00035939643434399225,
          0.00024395314894452388,
          0.00017316836001463672,
          0.00012735160356151665,
          0.00009638627975140923,
          0.00007470593733829965,
          0.00005907316222506811,
          0.000047516792877014095,
          0.000038789466575465774,
          0.00003207543071718495,
          0.000026825807346884663,
          0.00002266200011387384,
          0.00001931709233727985,
          0.00001659921379196025,
          0.000014368025846314482,
          0.000012519266486305538,
          0.00001097437500787136,
          0.000009673392245026067,
          0.000008570017130714616,
          0.00000762810976005143,
          0.0000068191815868316125,
          0.000006120569952072084,
          0.000005514093948336088,
          0.000004985053394992327,
          0.0000045214754345920975,
          0.000004113541910428064,
          0.0000037531501463238454,
          0.0000034335731502889105,
          0.0000031491946234143037,
          0.0000028953007427733445,
          0.0000026679153886272917,
          0.0000024636688819333044,
          0.0000022796927494116307,
          0.0000021135348573025914,
          0.0000019630905770303965,
          0.0000018265466576471873,
          0.0000017023352272088995,
          0.0000015890959064693447,
          0.0000014856444669470705,
          0.0000013909467825737248,
          0.0000013040970934632596,
          0.0000012242997960477834,
          0.0000011508541208150878,
          0.0000010831412061360458,
          0.000001020613142615066,
          9.627836565957264e-7,
          9.092201778354015e-7,
          8.595370439750184e-7,
          8.13389664788685e-7,
          7.704695178275898e-7,
          7.304998199948586e-7,
          6.932317717695299e-7,
          6.584413260991989e-7,
          6.259263528874916e-7,
          5.955041818851432e-7,
          5.670094514299282e-7,
          5.402922242863524e-7,
          5.152163374497122e-7,
          4.916579445214654e-7,
          4.6950424044666995e-7,
          4.486523252337031e-7,
          4.2900820733919753e-7,
          4.1048591675726474e-7,
          3.930067158250483e-7,
          3.7649840126486317e-7,
          3.608946791814705e-7,
          3.461346100855687e-7,
          3.3216210915341006e-7,
          3.189255028091621e-7,
          3.063771283244245e-7,
          2.94472975943682e-7,
          2.831723664603726e-7,
          2.7243766042829475e-7,
          2.622339971575879e-7,
          2.525290584246818e-7,
          2.432928540476976e-7,
          2.3449752918712178e-7,
          2.2611718988432911e-7,
          2.1812774211474363e-7,
          2.1050674969523314e-7,
          2.0323330100506625e-7,
          1.9628789080473473e-7,
          1.89652310586971e-7,
          1.833095489414488e-7,
          1.7724370165464627e-7,
          1.714398875930457e-7,
          1.6588417360044082e-7,
          1.6056350414334527e-7,
          1.5546563831416884e-7,
          1.5057909069027343e-7,
          1.4589307707236908e-7,
          1.4139746672186734e-7,
          1.3708273388122843e-7,
          1.3293991996422477e-7,
          1.2896059002006643e-7,
          1.251368018211258e-7,
          1.214610694234541e-7,
          1.1792633401778587e-7,
          1.1452593679407974e-7,
          1.1125359050776886e-7,
          1.0810335840217877e-7,
          1.0506962878953865e-7,
          1.0214709574134782e-7,
          9.933074133362325e-8,
          9.661581542290549e-8,
          9.399781787564152e-8,
          9.147249010100183e-8,
          8.903579076242235e-8,
          8.668388978271241e-8,
          8.441315309734178e-8,
          8.222013135146959e-8,
          8.010154921849218e-8,
          7.805429417378981e-8,
          7.607540967526771e-8,
          7.416208317929514e-8,
          7.231164010620929e-8,
          7.052153518314514e-8,
          6.878934513474455e-8,
          6.71127624983547e-8,
          6.548958844656464e-8,
          6.391772782083602e-8,
          6.239518243708902e-8,
          6.092004680733663e-8,
          5.9490502826199464e-8,
          5.8104814628730954e-8,
          5.676132530080526e-8,
          5.545845189038544e-8,
          5.4194682219224615e-8,
          5.296857042501684e-8,
          5.177873435024032e-8,
          5.062385221449279e-8,
          4.9502658879219385e-8,
          4.841394413263415e-8,
          4.735654903109228e-8,
          4.632936347045987e-8,
          4.5331324465003825e-8,
          4.436141326469642e-8,
          4.3418653306112934e-8,
          4.25021081707171e-8,
          4.1610879921064314e-8,
          4.0744107203264205e-8,
          3.990096317722189e-8,
          3.9080654464247595e-8,
          3.828241885069262e-8,
          3.75055248295305e-8,
          3.674926955009154e-8,
          3.601297679719019e-8,
          3.5295998503608025e-8,
          3.4597709281613884e-8,
          3.3917509492808936e-8,
          3.325482197357165e-8,
          3.2609090569275644e-8,
          3.197978110571218e-8,
          3.136637890106098e-8,
          3.0768388386799315e-8,
          3.0185332474429694e-8,
          2.9616751493839792e-8,
          2.9062202655627652e-8,
          2.8521259176145654e-8,
          2.7993509724174466e-8,
          2.7478557977301458e-8,
          2.6976020502742866e-8,
          2.6485529835622138e-8,
          2.6006729016096348e-8,
          2.5539274737429414e-8,
          2.5082836224831586e-8,
          2.4637092753739617e-8,
          2.420173619446769e-8,
          2.3776467215124376e-8,
          2.3360998704446815e-8,
          2.2955051507978264e-8,
          2.2558357050888694e-8,
          2.2170655092405444e-8,
          2.1791694473760396e-8,
          2.14212321701281e-8,
          2.1059033080945576e-8,
          2.070487019548791e-8,
          2.0358523457490972e-8,
          2.0019780311395867e-8,
          1.968843487042736e-8,
          1.9364287715192215e-8,
          1.9047146498048145e-8,
          1.87368238142284e-8,
          1.8433139615691102e-8,
          1.813591812763825e-8,
          1.7844989921705223e-8,
          1.7560190803389556e-8,
          1.7281361425072718e-8,
          1.700834726790964e-8,
          1.674099892696384e-8,
          1.647917112068635e-8,
          1.6222723637709656e-8,
          1.5971519680282218e-8,
          1.5725427018367705e-8,
          1.548431772251756e-8,
          1.5248066441564022e-8,
          1.5016553511146242e-8,
          1.4789660696153545e-8,
          1.4567274978874104e-8,
          1.4349285157940678e-8,
          1.4135584344110399e-8,
          1.3926068818052159e-8,
          1.372063647719977e-8,
          1.3519189730053144e-8,
          1.3321633133184219e-8,
          1.312787374920425e-8,
          1.2937821549106326e-8,
          1.2751388964656625e-8,
          1.2568490882268038e-8,
          1.2389044573724625e-8,
          1.2212969635050971e-8,
          1.2040187689460135e-8,
          1.1870622984101656e-8,
          1.170420134788916e-8,
          1.1540850787084964e-8,
          1.1380501448781753e-8,
          1.122308524653034e-8,
          1.1068535368652188e-8,
          1.091678838818307e-8,
          1.0767780602514515e-8,
          1.062145129117357e-8,
          1.0477740986340738e-8,
          1.033659166511962e-8,
          1.0197946972588996e-8,
          1.006175203579208e-8,
          9.92795330755285e-9,
          9.7964986660997e-9,
          9.667337493101699e-9,
          9.540420236265368e-9,
          9.415698799973715e-9,
          9.29312603307543e-9,
          9.17265606683732e-9,
          9.054245202348905e-9,
          8.937848503625207e-9,
          8.823424670050206e-9,
          8.710932169777976e-9,
          8.600330489413132e-9,
          8.491580436264115e-9,
          8.384643472859017e-9,
          8.279482755885848e-9,
          8.176061126679407e-9,
          8.074343100327352e-9,
          7.974294618190878e-9,
          7.875881083245128e-9,
          7.779069663419761e-9,
          7.683828444133447e-9,
          7.590125202955122e-9,
          7.497929870929946e-9,
          7.407212323342101e-9,
          7.3179424811381856e-9,
          7.230092674105126e-9,
          7.1436346761181355e-9,
          7.058540867088837e-9,
          6.97478509674595e-9,
          6.892340892695312e-9,
          6.8111832154689874e-9,
          6.7312869287029874e-9,
          6.652627722821947e-9,
          6.575182114124208e-9,
          6.498926669629727e-9,
          6.423838879260074e-9,
          6.3498967299716305e-9,
          6.2770782960269075e-9,
          6.205362489960683e-9,
          6.134728670814675e-9,
          6.06515671765108e-9,
          5.996626813710236e-9,
          5.929119245831614e-9,
          5.8626158040574815e-9,
          5.797097309263221e-9,
          5.732546159938551e-9,
          5.668944300392968e-9,
          5.6062749328437594e-9,
          5.544520201483493e-9,
          5.483664534356568e-9,
          5.423691371081554e-9,
          5.364584385694684e-9,
          5.306328704289003e-9,
          5.248908798280854e-9,
          5.192309777808192e-9,
          5.136517387229915e-9,
          5.081516791140902e-9,
          5.027294745821893e-9,
          4.973837039101042e-9,
          4.9211306738999885e-9,
          4.869161900889489e-9,
          4.817919073191566e-9,
          4.767388343257562e-9,
          4.717558357952244e-9,
          4.668416491742459e-9,
          4.619951121516998e-9,
          4.572151110983649e-9,
          4.525004140755015e-9,
          4.47850019462327e-9,
          4.43262739254054e-9,
          4.387376190288392e-9,
          4.342735410871427e-9,
          4.298694284782531e-9,
          4.2552445427121195e-9,
          4.212374894433333e-9,
          4.170075455175804e-9,
          4.128337916312029e-9,
          4.08715317041306e-9,
          4.046510087311954e-9,
          4.0064023316329645e-9,
          3.9668194011101305e-9,
          3.927753544745506e-9,
          3.889196287701283e-9,
          3.85113905281623e-9,
          3.813574182100919e-9,
          3.776493583949528e-9,
          3.739889258336896e-9,
          3.703754205527468e-9,
          3.66808032326825e-9,
          3.632860574468187e-9,
          3.5980878156022307e-9,
          3.5637548424373533e-9,
          3.5298548337877853e-9,
          3.496380830750116e-9,
          3.463326444088346e-9,
          3.4306848165678117e-9,
          3.3984499877734496e-9,
          3.3666151577041805e-9,
          3.3351742485668727e-9,
          3.3041215365324554e-9,
          3.27345054720069e-9,
          3.2431559767767126e-9,
          3.213231427059894e-9,
          3.1836720107807506e-9,
          3.154471456274775e-9,
          3.1256249217244484e-9,
          3.097126910347701e-9,
          3.0689717420188773e-9,
          3.041154889045292e-9,
          3.013670642889e-9,
          2.9865149651904053e-9,
          2.959681971293713e-9,
          2.93316758561486e-9,
          2.9069666863909612e-9,
          2.881074807786273e-9,
          2.8554874740338382e-9,
          2.8301998925541424e-9,
          2.8052082692508085e-9,
          2.7805074584957545e-9,
          2.756094345286183e-9,
          2.7319636855684843e-9,
          2.7081119527000204e-9,
          2.684535184166583e-9,
          2.661228808829176e-9,
          2.6381901744170685e-9,
          2.615412478438065e-9,
          2.592897620995375e-9,
          2.570636576642163e-9,
          2.548626905456452e-9,
          2.5268665800670414e-9,
          2.50535163291552e-9,
          2.4840775919345478e-9,
          2.463042176494139e-9,
          2.4422413120544762e-9,
          2.4216720188742397e-9,
          2.401330926295521e-9,
          2.381215347670735e-9,
          2.361321591752114e-9,
          2.341646886994671e-9,
          2.3221883336190997e-9,
          2.302942461239728e-9,
          2.2839070126316304e-9,
          2.2650784511369557e-9,
          2.2464545276348048e-9,
          2.2280322296358003e-9,
          2.209808707630112e-9,
          2.191781513385875e-9,
          2.1739478643356667e-9,
          2.1563050936401293e-9,
          2.1388509571183543e-9,
          2.1215824557233387e-9,
          2.104497311453792e-9,
          2.0875934059383446e-9,
          2.0708681102143216e-9,
          2.054318586906572e-9,
          2.0379433728685284e-9,
          2.021739642080409e-9,
          2.005705115582811e-9,
          1.9898378217719185e-9,
          1.9741355048959395e-9,
          1.9585956524821338e-9,
          1.94321721670975e-9,
          1.927996759726345e-9,
          1.912932549202309e-9,
          1.8980237832132996e-9,
          1.883266958441692e-9,
          1.8686606843602694e-9,
          1.8542034052924702e-9,
          1.8398924242970841e-9,
          1.825726822105685e-9,
          1.8117037041920688e-9,
          1.797822499462481e-9,
          1.7840800221211794e-9,
          1.770475641500395e-9,
          1.7570073575185206e-9,
          1.7436726668224032e-9,
          1.7304716168820617e-9,
          1.7173996256039233e-9,
          1.7044595053743072e-9,
          1.691645084421083e-9,
          1.6789569833650627e-9,
          1.6663941966070172e-9,
          1.6539540855981374e-9,
          1.64163436557452e-9,
          1.6294369937959028e-9,
          1.6173557881367634e-9,
          1.6053928410962625e-9,
          1.5935454429903186e-9,
          1.5818117518331543e-9,
          1.5701917702354433e-9,
          1.5586824366746865e-9,
          1.5472837650219337e-9,
          1.5359936493306385e-9,
          1.5248111280330932e-9,
          1.5137348833902698e-9,
          1.502763369043695e-9,
          1.49189581491782e-9,
          1.4811304457307484e-9,
          1.4704665588438043e-9,
          1.4599024746554632e-9,
          1.4494375159155317e-9,
          1.4390699997270621e-9,
          1.428799022047092e-9,
          1.4186237216666643e-9,
          1.4085423859035322e-9,
          1.3985545073049621e-9,
          1.388658452146282e-9,
          1.3788536337756466e-9,
          1.3691385753272581e-9,
          1.3595130287404883e-9,
          1.3499744244032382e-9,
          1.3405232435973022e-9,
          1.3311584487812279e-9,
          1.3218775202821533e-9,
          1.3126807510387431e-9,
          1.303568074224944e-9,
          1.2945361533415261e-9,
          1.2855853843383663e-9,
          1.2767155914090314e-9,
          1.2679243968298314e-9,
          1.2592117967294834e-9,
          1.2505766570520336e-9,
          1.2420180111110293e-9,
          1.2335353878855992e-9,
          1.2251273222014628e-9,
          1.2167935937383778e-9,
          1.208533010473082e-9,
          1.2003446878288978e-9,
          1.1922283347500377e-9,
          1.1841823076492473e-9,
          1.1762071557375184e-9,
          1.1682996906281434e-9,
          1.1604627264190068e-9,
          1.1526922916854933e-9,
          1.1449889249015368e-9,
          1.1373522625779505e-9,
          1.129780641152195e-9,
          1.122274546564945e-9,
          1.1148318303102379e-9,
          1.1074527598571364e-9,
          1.10013710430776e-9,
          1.0928825070150074e-9,
          1.0856900818712533e-9,
          1.0785579142876552e-9,
          1.0714862170021592e-9,
          1.0644737643568589e-9,
          1.0575199773794916e-9,
          1.0506247637532892e-9,
          1.0437866371709113e-9,
          1.0370060468226422e-9,
          1.0302812569426308e-9,
          1.0236126350016564e-9,
          1.0169989049969703e-9,
          1.0104397515947056e-9,
          1.0039349148415384e-9,
          9.974829807508333e-10,
          9.91084712029212e-10,
          9.847379930192876e-10,
          9.784436252286541e-10,
          9.722002653363811e-10,
          9.66007464801227e-10,
          9.59865420414037e-10,
          9.53771830664372e-10,
          9.477290718495616e-10,
          9.417327884609823e-10,
          9.357887645526309e-10,
          9.298867229645502e-10,
          9.240360408930446e-10,
          9.182302524649656e-10,
          9.124720693525608e-10,
          9.067579078497949e-10,
          9.010904342394252e-10,
          8.954664593950606e-10,
          8.898880498596861e-10,
          8.843529915356857e-10,
          8.788614641097791e-10,
          8.734131448052425e-10,
          8.680071702840197e-10,
          8.626437015785262e-10,
          8.573215208183571e-10,
          8.52041090192541e-10,
          8.46801422188923e-10,
          8.416020753926548e-10,
          8.364435361140283e-10,
          8.313239464943393e-10,
          8.262439916687517e-10,
          8.212029011201928e-10,
          8.162007083792712e-10,
          8.112362537501512e-10,
          8.063096551040928e-10,
          8.014207738741922e-10,
          7.965687419999244e-10,
          7.917533989145684e-10,
          7.869747377285559e-10,
          7.822315077608175e-10,
          7.775243722836748e-10,
          7.728523750170908e-10,
          7.682153730050347e-10,
          7.636129287471496e-10,
          7.590448505553147e-10,
          7.545107304208168e-10,
          7.500102160906371e-10,
          7.455430232983776e-10,
          7.411088031451131e-10,
          7.367073313451159e-10,
          7.32338191146003e-10,
          7.280009816806312e-10,
          7.236959197995281e-10,
          7.194217749369719e-10,
          7.151792504306495e-10,
          7.109673766167987e-10,
          7.067860074134401e-10,
          7.0263527632515e-10,
          6.985139673403339e-10,
          6.944230289091491e-10,
          6.903611087137707e-10,
          6.863282852393742e-10,
          6.823252873705731e-10,
          6.783494212656712e-10,
          6.74402628018403e-10,
          6.704850525765374e-10,
          6.665928738054229e-10,
          6.627307937819195e-10,
          6.588945745830014e-10,
          6.550855446826887e-10,
          6.513038541160222e-10,
          6.475484446338345e-10,
          6.438194211205265e-10,
          6.401166584845547e-10,
          6.364394334684818e-10,
          6.327881894696085e-10,
          6.291621039940095e-10,
          6.255612614979149e-10,
          6.219853997125609e-10,
          6.184341077141071e-10,
          6.149075452250716e-10,
          6.11405105157238e-10,
          6.079267000389077e-10,
          6.044722497798002e-10,
          6.010413195200633e-10,
          5.976337858948643e-10,
          5.94249496452627e-10,
          5.908882913769409e-10,
          5.87549842790976e-10,
          5.842339334529712e-10,
          5.809403238118233e-10,
          5.776691467608284e-10,
          5.744198004526296e-10,
          5.711921706901027e-10,
          5.679865713500118e-10,
          5.648017814084835e-10,
          5.616387550306841e-10,
          5.584965779595051e-10,
          5.553751805571246e-10,
          5.522746542476122e-10,
          5.491943869966747e-10,
          5.461346484443503e-10,
          5.430949772096428e-10,
          5.400755031805332e-10,
          5.37075338825459e-10,
          5.340952451161348e-10,
          5.311345245482677e-10,
          5.281929183740087e-10,
          5.25270601548876e-10,
          5.223671840240885e-10,
          5.194827037710319e-10,
          5.166166592314417e-10,
          5.137693102186218e-10,
          5.109401062961814e-10,
          5.081292435631144e-10,
          5.053358239403061e-10,
          5.02561719297061e-10,
          4.998032907780115e-10,
          4.970641276668191e-10,
          4.943415580946607e-10,
          4.916365458066925e-10,
          4.889487436920079e-10,
          4.862772259740031e-10,
          4.836235567984605e-10,
          4.809858257061543e-10,
          4.783648166047451e-10,
          4.757603587473587e-10,
          4.731722517248666e-10,
          4.70600253559074e-10,
          4.680441293381815e-10,
          4.655039863922208e-10,
          4.629796961719832e-10,
          4.6047093060021313e-10,
          4.5797739442461035e-10,
          4.554995947041e-10,
          4.530370840066327e-10,
          4.505893376829301e-10,
          4.4815692253932765e-10,
          4.4573916108525056e-10,
          4.433362346919203e-10,
          4.4094796219070345e-10,
          4.38574127548471e-10,
          4.3621469847302095e-10,
          4.3386961187142204e-10,
          4.3153877547797056e-10,
          4.292217394987178e-10,
          4.2691861361126523e-10,
          4.246298884993346e-10,
          4.2235417149004465e-10,
          4.200922691740275e-10,
          4.1784425446528394e-10,
          4.1560898640674487e-10,
          4.133875410563604e-10,
          4.111789854257097e-10,
          4.0898363016616824e-10,
          4.068011142597027e-10,
          4.0463149804340413e-10,
          4.0247491661980124e-10,
          4.0033053619054204e-10,
          3.9819909949540804e-10,
          3.9607997110919974e-10,
          3.9397314287520817e-10,
          3.918788276352734e-10,
          3.897965122808054e-10,
          3.8772622483490054e-10,
          3.8566797442947197e-10,
          3.836218839003749e-10,
          3.815871906249171e-10,
          3.7956440597023427e-10,
          3.7755323250631747e-10,
          3.7555372085803733e-10,
          3.7356542342575047e-10,
          3.7158859292349527e-10,
          3.6962304880841996e-10,
          3.6766860132024907e-10,
          3.6572542246331244e-10,
          3.6379314829954446e-10,
          3.618718917194428e-10,
          3.5996113806032813e-10,
          3.580617361051195e-10,
          3.5617264614364463e-10,
          3.5429403778288767e-10,
          3.5242639018493865e-10,
          3.505688617149307e-10,
          3.4872173614561505e-10,
          3.4688501855783803e-10,
          3.450585517413967e-10,
          3.4324201743259045e-10,
          3.414356186213974e-10,
          3.3963941374083223e-10,
          3.37852834698977e-10,
          3.36076360323463e-10,
          3.343094363253169e-10,
          3.3255240453975636e-10,
          3.3080482670598725e-10,
          3.2906698811621306e-10,
          3.273384510456874e-10,
          3.256195231840731e-10,
          3.239098987860551e-10,
          3.2220928439547437e-10,
          3.205184842355964e-10,
          3.1883629197568633e-10,
          3.1716327832200974e-10,
          3.1549966441917244e-10,
          3.13844519510213e-10,
          3.1219844320413745e-10,
          3.10561493089554e-10,
          3.089328258748802e-10,
          3.073132233881749e-10,
          3.0570217702241814e-10,
          3.040996195151117e-10,
          3.025057907234739e-10,
          3.009201006493716e-10,
          2.993431158720154e-10,
          2.977747065744442e-10,
          2.9621346930108083e-10,
          2.946619510323314e-10,
          2.931177753919435e-10,
          2.9158182191756966e-10,
          2.9005396400958334e-10,
          2.8853425096545703e-10,
          2.870222979730727e-10,
          2.855184357900836e-10,
          2.8402226264403186e-10,
          2.825339343972785e-10,
          2.810535121921875e-10,
          2.7958050418527503e-10,
          2.7811553803329595e-10,
          2.766576586107878e-10,
          2.752076566073802e-10,
          2.737651929189208e-10,
          2.723299983783834e-10,
          2.709022151348469e-10,
          2.6948196068332964e-10,
          2.6806868050286874e-10,
          2.6666311159859026e-10,
          2.652643721585291e-10,
          2.6387288607641904e-10,
          2.6248857974182346e-10,
          2.6111134835813645e-10,
          2.597411891450201e-10,
          2.583778439871171e-10,
          2.5702156424880296e-10,
          2.556722063019145e-10,
          2.5432955096295083e-10,
          2.5299391594554074e-10,
          2.516649557572337e-10,
          2.5034264820044764e-10,
          2.490272149975652e-10,
          2.4771832742268265e-10,
          2.464158881817703e-10,
          2.451203597486316e-10,
          2.43831058489493e-10,
          2.425484037903249e-10,
          2.4127220872059345e-10,
          2.400023182892477e-10,
          2.3873917587174253e-10,
          2.3748192479180524e-10,
          2.362309360363435e-10,
          2.349869330558371e-10,
          2.337483204549857e-10,
          2.3251610125888968e-10,
          2.312906153595319e-10,
          2.3007049083213555e-10,
          2.2885709401338354e-10,
          2.2764958369538244e-10,
          2.2644786711453486e-10,
          2.252524933745184e-10,
          2.2406315178616322e-10,
          2.22878893934734e-10,
          2.2170176067235257e-10,
          2.205296615854877e-10,
          2.193636333365062e-10,
          2.1820374458920294e-10,
          2.170492398106483e-10,
          2.159006659840129e-10,
          2.147578460991208e-10,
          2.1362062498567553e-10,
          2.1248929972635135e-10,
          2.1136326629327533e-10,
          2.1024315758456603e-10,
          2.0912873398383835e-10,
          2.0801956012287667e-10,
          2.069162003499968e-10,
          2.0581819876827742e-10,
          2.0472584829560249e-10,
          2.0363891593086412e-10,
          2.0255727454958305e-10,
          2.0148133525564977e-10,
          2.0041075451962283e-10,
          1.9934529289258693e-10,
          1.9828556070410034e-10,
          1.972310255427937e-10,
          1.9618160774755822e-10,
          1.951378750981443e-10,
          1.9409914434930718e-10,
          1.9306589785752365e-10,
          1.9203760348567481e-10,
          1.9101471077607366e-10,
          1.8999712420517583e-10,
          1.8898462031990133e-10,
          1.8797718564622017e-10,
          1.8697514785666914e-10,
          1.859779390550675e-10,
          1.8498616259490842e-10,
          1.839994015443086e-10,
          1.8301752138123934e-10,
          1.820410656868649e-10,
          1.8106946580823533e-10,
          1.8010296970769885e-10,
          1.7914156213411498e-10,
          1.78184762861405e-10,
          1.7723399386024345e-10,
          1.7628704899786579e-10,
          1.7534553909229214e-10,
          1.7440957634370738e-10,
          1.734778465185197e-10,
          1.725513297837672e-10,
          1.7162956150094681e-10,
          1.7071333663671743e-10,
          1.6980134879702996e-10,
          1.688947335908586e-10,
          1.6799289490058584e-10,
          1.6709568854666181e-10,
          1.662040354528545e-10,
          1.6531669075309973e-10,
          1.6443449418530385e-10,
          1.635571267784182e-10,
          1.626846703557144e-10,
          1.6181724299950603e-10,
          1.6095433267442294e-10,
          1.600965475792912e-10,
          1.5924365432547418e-10,
          1.5839552590355178e-10,
          1.575523728064143e-10,
          1.567139216243786e-10,
          1.558805804434893e-10,
          1.5505185565151903e-10,
          1.5422814599881263e-10,
          1.5340933743398384e-10,
          1.5259529953113523e-10,
          1.51786098306896e-10,
          1.509819781063483e-10,
          1.5018270763029437e-10,
          1.4938794996785308e-10,
          1.4859867254782452e-10,
          1.4781374963446143e-10,
          1.4703418836276127e-10,
          1.462591855234114e-10,
          1.4548920225650173e-10,
          1.4472433730601263e-10,
          1.4396411291203922e-10,
          1.432090467807961e-10,
          1.4245868628536968e-10,
          1.417136109634817e-10,
          1.409733065282472e-10,
          1.4023810120370727e-10,
          1.3950765204434824e-10,
          1.3878242746631156e-10,
          1.380622013979042e-10,
          1.3734689633366942e-10,
          1.366369365533008e-10,
          1.3593133552728115e-10,
          1.3523192352552543e-10,
          1.3453647912514676e-10,
          1.3384703392997473e-10,
          1.3316219145380254e-10,
          1.3248192336824736e-10,
          1.3180956611745978e-10,
          1.311375137143601e-10,
          1.3047549175487982e-10,
          1.2981731031972698e-10,
          1.2916141992781845e-10,
          1.2851464194123004e-10,
          1.2787204702895628e-10,
          1.272331131248081e-10,
          1.2660217944718325e-10,
          1.2597411489907736e-10,
          1.2535324708148792e-10,
          1.2473675720620468e-10,
          1.241260771752098e-10,
          1.235211381095819e-10,
          1.2292079902386104e-10,
          1.22327135372449e-10,
          1.2173812654932483e-10,
          1.2115512243704048e-10,
          1.2057761052516016e-10,
          1.2000559813073836e-10,
          1.1943971605497328e-10,
          1.1887886924936134e-10,
          1.1832442269246333e-10,
          1.1777524727742698e-10,
          1.1723192332838799e-10,
          1.166949274431787e-10,
          1.1616308609942005e-10,
          1.1563771070762533e-10,
          1.1511777262862077e-10,
          1.1460431947717201e-10,
          1.1409657885871852e-10,
          1.135948663998675e-10,
          1.1309932694229593e-10,
          1.1260989832460842e-10,
          1.121265311245551e-10,
          1.1164963131887303e-10,
          1.1117841146870458e-10,
          1.1071438353115905e-10,
          1.1025543918667656e-10,
          1.0980395543372967e-10,
          1.0935827329451244e-10,
          1.0891911165382095e-10,
          1.0848656244730735e-10,
          1.0806040930784408e-10,
          1.0764073649033929e-10,
          1.0722787532069619e-10,
          1.068214582872226e-10,
          1.0642187573721739e-10,
          1.0602866124300105e-10,
          1.0564269773010258e-10,
          1.052632898424296e-10,
          1.0489052946294418e-10,
          1.0452524621416082e-10,
          1.0416569619437547e-10,
          1.0381472610479845e-10,
          1.0347083595003939e-10,
          1.0313003853950673e-10,
          1.028017301915091e-10,
          1.0247857645691252e-10,
          1.0216059047102704e-10,
          1.0185240718408597e-10,
          1.0155052385466268e-10,
          1.012555087167733e-10,
          1.0096872711844485e-10,
          1.0068817939065847e-10,
          1.0041623799409557e-10,
          1.0015088883024092e-10,
          9.989336674752835e-11,
          9.96432875684422e-11,
          9.940048843358211e-11,
          9.916608374051084e-11,
          9.893822628717037e-11,
          9.871882460826321e-11,
          9.85066943673823e-11,
          9.830247044743733e-11,
          9.810600535031792e-11,
          9.791705092631325e-11,
          9.773637376663728e-11,
          9.756302473252251e-11,
          9.73977988858098e-11,
          9.724050884736955e-11,
          9.709111527776162e-11,
          9.694946346782945e-11,
          9.681581057581276e-11,
          9.669041600729369e-11,
          9.657316434977385e-11,
          9.646290259696083e-11,
          9.636188361797339e-11,
          9.626826000449245e-11,
          9.61829511592944e-11,
          9.610559625680319e-11,
          9.603659791961637e-11,
          9.597511044726596e-11,
          9.592260411310275e-11,
          9.587750321454467e-11,
          9.584086625303363e-11,
          9.581247743757304e-11,
          9.579192059361441e-11,
          9.577979269366487e-11
         ],
         "yaxis": "y"
        }
       ],
       "layout": {
        "legend": {
         "tracegroupgap": 0
        },
        "margin": {
         "t": 60
        },
        "template": {
         "data": {
          "bar": [
           {
            "error_x": {
             "color": "#2a3f5f"
            },
            "error_y": {
             "color": "#2a3f5f"
            },
            "marker": {
             "line": {
              "color": "#E5ECF6",
              "width": 0.5
             }
            },
            "type": "bar"
           }
          ],
          "barpolar": [
           {
            "marker": {
             "line": {
              "color": "#E5ECF6",
              "width": 0.5
             }
            },
            "type": "barpolar"
           }
          ],
          "carpet": [
           {
            "aaxis": {
             "endlinecolor": "#2a3f5f",
             "gridcolor": "white",
             "linecolor": "white",
             "minorgridcolor": "white",
             "startlinecolor": "#2a3f5f"
            },
            "baxis": {
             "endlinecolor": "#2a3f5f",
             "gridcolor": "white",
             "linecolor": "white",
             "minorgridcolor": "white",
             "startlinecolor": "#2a3f5f"
            },
            "type": "carpet"
           }
          ],
          "choropleth": [
           {
            "colorbar": {
             "outlinewidth": 0,
             "ticks": ""
            },
            "type": "choropleth"
           }
          ],
          "contour": [
           {
            "colorbar": {
             "outlinewidth": 0,
             "ticks": ""
            },
            "colorscale": [
             [
              0,
              "#0d0887"
             ],
             [
              0.1111111111111111,
              "#46039f"
             ],
             [
              0.2222222222222222,
              "#7201a8"
             ],
             [
              0.3333333333333333,
              "#9c179e"
             ],
             [
              0.4444444444444444,
              "#bd3786"
             ],
             [
              0.5555555555555556,
              "#d8576b"
             ],
             [
              0.6666666666666666,
              "#ed7953"
             ],
             [
              0.7777777777777778,
              "#fb9f3a"
             ],
             [
              0.8888888888888888,
              "#fdca26"
             ],
             [
              1,
              "#f0f921"
             ]
            ],
            "type": "contour"
           }
          ],
          "contourcarpet": [
           {
            "colorbar": {
             "outlinewidth": 0,
             "ticks": ""
            },
            "type": "contourcarpet"
           }
          ],
          "heatmap": [
           {
            "colorbar": {
             "outlinewidth": 0,
             "ticks": ""
            },
            "colorscale": [
             [
              0,
              "#0d0887"
             ],
             [
              0.1111111111111111,
              "#46039f"
             ],
             [
              0.2222222222222222,
              "#7201a8"
             ],
             [
              0.3333333333333333,
              "#9c179e"
             ],
             [
              0.4444444444444444,
              "#bd3786"
             ],
             [
              0.5555555555555556,
              "#d8576b"
             ],
             [
              0.6666666666666666,
              "#ed7953"
             ],
             [
              0.7777777777777778,
              "#fb9f3a"
             ],
             [
              0.8888888888888888,
              "#fdca26"
             ],
             [
              1,
              "#f0f921"
             ]
            ],
            "type": "heatmap"
           }
          ],
          "heatmapgl": [
           {
            "colorbar": {
             "outlinewidth": 0,
             "ticks": ""
            },
            "colorscale": [
             [
              0,
              "#0d0887"
             ],
             [
              0.1111111111111111,
              "#46039f"
             ],
             [
              0.2222222222222222,
              "#7201a8"
             ],
             [
              0.3333333333333333,
              "#9c179e"
             ],
             [
              0.4444444444444444,
              "#bd3786"
             ],
             [
              0.5555555555555556,
              "#d8576b"
             ],
             [
              0.6666666666666666,
              "#ed7953"
             ],
             [
              0.7777777777777778,
              "#fb9f3a"
             ],
             [
              0.8888888888888888,
              "#fdca26"
             ],
             [
              1,
              "#f0f921"
             ]
            ],
            "type": "heatmapgl"
           }
          ],
          "histogram": [
           {
            "marker": {
             "colorbar": {
              "outlinewidth": 0,
              "ticks": ""
             }
            },
            "type": "histogram"
           }
          ],
          "histogram2d": [
           {
            "colorbar": {
             "outlinewidth": 0,
             "ticks": ""
            },
            "colorscale": [
             [
              0,
              "#0d0887"
             ],
             [
              0.1111111111111111,
              "#46039f"
             ],
             [
              0.2222222222222222,
              "#7201a8"
             ],
             [
              0.3333333333333333,
              "#9c179e"
             ],
             [
              0.4444444444444444,
              "#bd3786"
             ],
             [
              0.5555555555555556,
              "#d8576b"
             ],
             [
              0.6666666666666666,
              "#ed7953"
             ],
             [
              0.7777777777777778,
              "#fb9f3a"
             ],
             [
              0.8888888888888888,
              "#fdca26"
             ],
             [
              1,
              "#f0f921"
             ]
            ],
            "type": "histogram2d"
           }
          ],
          "histogram2dcontour": [
           {
            "colorbar": {
             "outlinewidth": 0,
             "ticks": ""
            },
            "colorscale": [
             [
              0,
              "#0d0887"
             ],
             [
              0.1111111111111111,
              "#46039f"
             ],
             [
              0.2222222222222222,
              "#7201a8"
             ],
             [
              0.3333333333333333,
              "#9c179e"
             ],
             [
              0.4444444444444444,
              "#bd3786"
             ],
             [
              0.5555555555555556,
              "#d8576b"
             ],
             [
              0.6666666666666666,
              "#ed7953"
             ],
             [
              0.7777777777777778,
              "#fb9f3a"
             ],
             [
              0.8888888888888888,
              "#fdca26"
             ],
             [
              1,
              "#f0f921"
             ]
            ],
            "type": "histogram2dcontour"
           }
          ],
          "mesh3d": [
           {
            "colorbar": {
             "outlinewidth": 0,
             "ticks": ""
            },
            "type": "mesh3d"
           }
          ],
          "parcoords": [
           {
            "line": {
             "colorbar": {
              "outlinewidth": 0,
              "ticks": ""
             }
            },
            "type": "parcoords"
           }
          ],
          "pie": [
           {
            "automargin": true,
            "type": "pie"
           }
          ],
          "scatter": [
           {
            "marker": {
             "colorbar": {
              "outlinewidth": 0,
              "ticks": ""
             }
            },
            "type": "scatter"
           }
          ],
          "scatter3d": [
           {
            "line": {
             "colorbar": {
              "outlinewidth": 0,
              "ticks": ""
             }
            },
            "marker": {
             "colorbar": {
              "outlinewidth": 0,
              "ticks": ""
             }
            },
            "type": "scatter3d"
           }
          ],
          "scattercarpet": [
           {
            "marker": {
             "colorbar": {
              "outlinewidth": 0,
              "ticks": ""
             }
            },
            "type": "scattercarpet"
           }
          ],
          "scattergeo": [
           {
            "marker": {
             "colorbar": {
              "outlinewidth": 0,
              "ticks": ""
             }
            },
            "type": "scattergeo"
           }
          ],
          "scattergl": [
           {
            "marker": {
             "colorbar": {
              "outlinewidth": 0,
              "ticks": ""
             }
            },
            "type": "scattergl"
           }
          ],
          "scattermapbox": [
           {
            "marker": {
             "colorbar": {
              "outlinewidth": 0,
              "ticks": ""
             }
            },
            "type": "scattermapbox"
           }
          ],
          "scatterpolar": [
           {
            "marker": {
             "colorbar": {
              "outlinewidth": 0,
              "ticks": ""
             }
            },
            "type": "scatterpolar"
           }
          ],
          "scatterpolargl": [
           {
            "marker": {
             "colorbar": {
              "outlinewidth": 0,
              "ticks": ""
             }
            },
            "type": "scatterpolargl"
           }
          ],
          "scatterternary": [
           {
            "marker": {
             "colorbar": {
              "outlinewidth": 0,
              "ticks": ""
             }
            },
            "type": "scatterternary"
           }
          ],
          "surface": [
           {
            "colorbar": {
             "outlinewidth": 0,
             "ticks": ""
            },
            "colorscale": [
             [
              0,
              "#0d0887"
             ],
             [
              0.1111111111111111,
              "#46039f"
             ],
             [
              0.2222222222222222,
              "#7201a8"
             ],
             [
              0.3333333333333333,
              "#9c179e"
             ],
             [
              0.4444444444444444,
              "#bd3786"
             ],
             [
              0.5555555555555556,
              "#d8576b"
             ],
             [
              0.6666666666666666,
              "#ed7953"
             ],
             [
              0.7777777777777778,
              "#fb9f3a"
             ],
             [
              0.8888888888888888,
              "#fdca26"
             ],
             [
              1,
              "#f0f921"
             ]
            ],
            "type": "surface"
           }
          ],
          "table": [
           {
            "cells": {
             "fill": {
              "color": "#EBF0F8"
             },
             "line": {
              "color": "white"
             }
            },
            "header": {
             "fill": {
              "color": "#C8D4E3"
             },
             "line": {
              "color": "white"
             }
            },
            "type": "table"
           }
          ]
         },
         "layout": {
          "annotationdefaults": {
           "arrowcolor": "#2a3f5f",
           "arrowhead": 0,
           "arrowwidth": 1
          },
          "autotypenumbers": "strict",
          "coloraxis": {
           "colorbar": {
            "outlinewidth": 0,
            "ticks": ""
           }
          },
          "colorscale": {
           "diverging": [
            [
             0,
             "#8e0152"
            ],
            [
             0.1,
             "#c51b7d"
            ],
            [
             0.2,
             "#de77ae"
            ],
            [
             0.3,
             "#f1b6da"
            ],
            [
             0.4,
             "#fde0ef"
            ],
            [
             0.5,
             "#f7f7f7"
            ],
            [
             0.6,
             "#e6f5d0"
            ],
            [
             0.7,
             "#b8e186"
            ],
            [
             0.8,
             "#7fbc41"
            ],
            [
             0.9,
             "#4d9221"
            ],
            [
             1,
             "#276419"
            ]
           ],
           "sequential": [
            [
             0,
             "#0d0887"
            ],
            [
             0.1111111111111111,
             "#46039f"
            ],
            [
             0.2222222222222222,
             "#7201a8"
            ],
            [
             0.3333333333333333,
             "#9c179e"
            ],
            [
             0.4444444444444444,
             "#bd3786"
            ],
            [
             0.5555555555555556,
             "#d8576b"
            ],
            [
             0.6666666666666666,
             "#ed7953"
            ],
            [
             0.7777777777777778,
             "#fb9f3a"
            ],
            [
             0.8888888888888888,
             "#fdca26"
            ],
            [
             1,
             "#f0f921"
            ]
           ],
           "sequentialminus": [
            [
             0,
             "#0d0887"
            ],
            [
             0.1111111111111111,
             "#46039f"
            ],
            [
             0.2222222222222222,
             "#7201a8"
            ],
            [
             0.3333333333333333,
             "#9c179e"
            ],
            [
             0.4444444444444444,
             "#bd3786"
            ],
            [
             0.5555555555555556,
             "#d8576b"
            ],
            [
             0.6666666666666666,
             "#ed7953"
            ],
            [
             0.7777777777777778,
             "#fb9f3a"
            ],
            [
             0.8888888888888888,
             "#fdca26"
            ],
            [
             1,
             "#f0f921"
            ]
           ]
          },
          "colorway": [
           "#636efa",
           "#EF553B",
           "#00cc96",
           "#ab63fa",
           "#FFA15A",
           "#19d3f3",
           "#FF6692",
           "#B6E880",
           "#FF97FF",
           "#FECB52"
          ],
          "font": {
           "color": "#2a3f5f"
          },
          "geo": {
           "bgcolor": "white",
           "lakecolor": "white",
           "landcolor": "#E5ECF6",
           "showlakes": true,
           "showland": true,
           "subunitcolor": "white"
          },
          "hoverlabel": {
           "align": "left"
          },
          "hovermode": "closest",
          "mapbox": {
           "style": "light"
          },
          "paper_bgcolor": "white",
          "plot_bgcolor": "#E5ECF6",
          "polar": {
           "angularaxis": {
            "gridcolor": "white",
            "linecolor": "white",
            "ticks": ""
           },
           "bgcolor": "#E5ECF6",
           "radialaxis": {
            "gridcolor": "white",
            "linecolor": "white",
            "ticks": ""
           }
          },
          "scene": {
           "xaxis": {
            "backgroundcolor": "#E5ECF6",
            "gridcolor": "white",
            "gridwidth": 2,
            "linecolor": "white",
            "showbackground": true,
            "ticks": "",
            "zerolinecolor": "white"
           },
           "yaxis": {
            "backgroundcolor": "#E5ECF6",
            "gridcolor": "white",
            "gridwidth": 2,
            "linecolor": "white",
            "showbackground": true,
            "ticks": "",
            "zerolinecolor": "white"
           },
           "zaxis": {
            "backgroundcolor": "#E5ECF6",
            "gridcolor": "white",
            "gridwidth": 2,
            "linecolor": "white",
            "showbackground": true,
            "ticks": "",
            "zerolinecolor": "white"
           }
          },
          "shapedefaults": {
           "line": {
            "color": "#2a3f5f"
           }
          },
          "ternary": {
           "aaxis": {
            "gridcolor": "white",
            "linecolor": "white",
            "ticks": ""
           },
           "baxis": {
            "gridcolor": "white",
            "linecolor": "white",
            "ticks": ""
           },
           "bgcolor": "#E5ECF6",
           "caxis": {
            "gridcolor": "white",
            "linecolor": "white",
            "ticks": ""
           }
          },
          "title": {
           "x": 0.05
          },
          "xaxis": {
           "automargin": true,
           "gridcolor": "white",
           "linecolor": "white",
           "ticks": "",
           "title": {
            "standoff": 15
           },
           "zerolinecolor": "white",
           "zerolinewidth": 2
          },
          "yaxis": {
           "automargin": true,
           "gridcolor": "white",
           "linecolor": "white",
           "ticks": "",
           "title": {
            "standoff": 15
           },
           "zerolinecolor": "white",
           "zerolinewidth": 2
          }
         }
        },
        "xaxis": {
         "anchor": "y",
         "domain": [
          0,
          1
         ],
         "title": {
          "text": "x"
         }
        },
        "yaxis": {
         "anchor": "x",
         "domain": [
          0,
          1
         ],
         "title": {
          "text": "y"
         }
        }
       }
      }
     },
     "metadata": {},
     "output_type": "display_data"
    }
   ],
   "source": [
    "import plotly.express as px\n",
    "px.line(y=S.T[0][:-1],x=f[:-1])"
   ]
  },
  {
   "cell_type": "markdown",
   "metadata": {},
   "source": [
    "## At blocksize = 1024: time resolution = 0.011609977324263039 s\n",
    "Time resolution = hopSize / fs (assuming hopSize = blockSize/2, we get time resolution = blockSize/2fs)"
   ]
  },
  {
   "cell_type": "code",
   "execution_count": 181,
   "metadata": {},
   "outputs": [
    {
     "data": {
      "text/plain": [
       "0.023219954648526078"
      ]
     },
     "execution_count": 181,
     "metadata": {},
     "output_type": "execute_result"
    }
   ],
   "source": [
    "1024/44100"
   ]
  },
  {
   "cell_type": "code",
   "execution_count": 180,
   "metadata": {},
   "outputs": [
    {
     "name": "stdout",
     "output_type": "stream",
     "text": [
      "0.011609977324263039\n",
      "0.023219954648526078\n"
     ]
    }
   ],
   "source": [
    "def block_audio(x,blockSize,hopSize,fs):\n",
    "    # allocate memory\n",
    "    numBlocks = math.ceil(x.size / hopSize)\n",
    "    xb = np.zeros([numBlocks, blockSize])\n",
    "    # compute time stamps\n",
    "    t = (np.arange(0, numBlocks) * hopSize) / fs\n",
    "    x = np.concatenate((x, np.zeros(blockSize)),axis=0)\n",
    "    for n in range(0, numBlocks):\n",
    "        i_start = n * hopSize\n",
    "        i_stop = np.min([x.size - 1, i_start + blockSize - 1])\n",
    "        xb[n][np.arange(0,blockSize)] = x[np.arange(i_start, i_stop + 1)]\n",
    "    return (xb,t)\n",
    "\n",
    "_,t=block_audio(test_aud,1024,512,44100)\n",
    "print(t[1]-t[0])\n",
    "_,t=block_audio(test_aud,2048,1024,44100)\n",
    "print(t[1]-t[0])"
   ]
  },
  {
   "cell_type": "markdown",
   "metadata": {},
   "source": [
    "## [f0, timeInSec] = track_pitch_fftmax(x, blockSize, hopSize, fs) that estimates the fundamental frequency f0 of the audio signal based on a block-wise maximum spectral peak finding approach. Note: This function should use compute_spectrogram()."
   ]
  },
  {
   "cell_type": "code",
   "execution_count": 175,
   "metadata": {},
   "outputs": [],
   "source": [
    "def track_pitch_fftmax(x,blockSize,hopSize,fs):\n",
    "    xb,t = block_audio(x,blockSize,hopSize,fs)\n",
    "    S,f=compute_spectrogram(xb,fs)\n",
    "    numBlocks = S.T.shape[0]\n",
    "    f0=np.zeros(numBlocks)\n",
    "    for n in range(numBlocks):\n",
    "        f0[n] = f[np.argmax(S.T[0])]\n",
    "    return f0,t"
   ]
  },
  {
   "cell_type": "code",
   "execution_count": 179,
   "metadata": {},
   "outputs": [
    {
     "data": {
      "application/vnd.plotly.v1+json": {
       "config": {
        "plotlyServerURL": "https://plot.ly"
       },
       "data": [
        {
         "hovertemplate": "x=%{x}<br>y=%{y}<extra></extra>",
         "legendgroup": "",
         "line": {
          "color": "#636efa",
          "dash": "solid"
         },
         "mode": "lines",
         "name": "",
         "orientation": "v",
         "showlegend": false,
         "type": "scatter",
         "x": [
          0,
          0.011609977324263039,
          0.023219954648526078,
          0.034829931972789115,
          0.046439909297052155,
          0.058049886621315196,
          0.06965986394557823,
          0.08126984126984127,
          0.09287981859410431,
          0.10448979591836735,
          0.11609977324263039,
          0.12770975056689343,
          0.13931972789115646,
          0.1509297052154195,
          0.16253968253968254,
          0.17414965986394557,
          0.18575963718820862,
          0.19736961451247165,
          0.2089795918367347,
          0.22058956916099773,
          0.23219954648526078,
          0.2438095238095238,
          0.25541950113378686,
          0.26702947845804986,
          0.2786394557823129,
          0.29024943310657597,
          0.301859410430839,
          0.313469387755102,
          0.3250793650793651,
          0.33668934240362813,
          0.34829931972789113,
          0.3599092970521542,
          0.37151927437641724,
          0.3831292517006803,
          0.3947392290249433,
          0.40634920634920635,
          0.4179591836734694,
          0.4295691609977324,
          0.44117913832199546,
          0.4527891156462585,
          0.46439909297052157,
          0.47600907029478456,
          0.4876190476190476,
          0.4992290249433107,
          0.5108390022675737,
          0.5224489795918368,
          0.5340589569160997,
          0.5456689342403628,
          0.5572789115646258,
          0.5688888888888889,
          0.5804988662131519,
          0.592108843537415,
          0.603718820861678,
          0.615328798185941,
          0.626938775510204,
          0.6385487528344671,
          0.6501587301587302,
          0.6617687074829932,
          0.6733786848072563,
          0.6849886621315193,
          0.6965986394557823,
          0.7082086167800453,
          0.7198185941043084,
          0.7314285714285714,
          0.7430385487528345,
          0.7546485260770975,
          0.7662585034013606,
          0.7778684807256235,
          0.7894784580498866,
          0.8010884353741496,
          0.8126984126984127,
          0.8243083900226758,
          0.8359183673469388,
          0.8475283446712019,
          0.8591383219954648,
          0.8707482993197279,
          0.8823582766439909,
          0.893968253968254,
          0.905578231292517,
          0.9171882086167801,
          0.9287981859410431,
          0.9404081632653061,
          0.9520181405895691,
          0.9636281179138322,
          0.9752380952380952,
          0.9868480725623583,
          0.9984580498866213
         ],
         "xaxis": "x",
         "y": [
          1507.32421875,
          1507.32421875,
          1507.32421875,
          1507.32421875,
          1507.32421875,
          1507.32421875,
          1507.32421875,
          1507.32421875,
          1507.32421875,
          1507.32421875,
          1507.32421875,
          1507.32421875,
          1507.32421875,
          1507.32421875,
          1507.32421875,
          1507.32421875,
          1507.32421875,
          1507.32421875,
          1507.32421875,
          1507.32421875,
          1507.32421875,
          1507.32421875,
          1507.32421875,
          1507.32421875,
          1507.32421875,
          1507.32421875,
          1507.32421875,
          1507.32421875,
          1507.32421875,
          1507.32421875,
          1507.32421875,
          1507.32421875,
          1507.32421875,
          1507.32421875,
          1507.32421875,
          1507.32421875,
          1507.32421875,
          1507.32421875,
          1507.32421875,
          1507.32421875,
          1507.32421875,
          1507.32421875,
          1507.32421875,
          1507.32421875,
          1507.32421875,
          1507.32421875,
          1507.32421875,
          1507.32421875,
          1507.32421875,
          1507.32421875,
          1507.32421875,
          1507.32421875,
          1507.32421875,
          1507.32421875,
          1507.32421875,
          1507.32421875,
          1507.32421875,
          1507.32421875,
          1507.32421875,
          1507.32421875,
          1507.32421875,
          1507.32421875,
          1507.32421875,
          1507.32421875,
          1507.32421875,
          1507.32421875,
          1507.32421875,
          1507.32421875,
          1507.32421875,
          1507.32421875,
          1507.32421875,
          1507.32421875,
          1507.32421875,
          1507.32421875,
          1507.32421875,
          1507.32421875,
          1507.32421875,
          1507.32421875,
          1507.32421875,
          1507.32421875,
          1507.32421875,
          1507.32421875,
          1507.32421875,
          1507.32421875,
          1507.32421875,
          1507.32421875,
          1507.32421875
         ],
         "yaxis": "y"
        }
       ],
       "layout": {
        "legend": {
         "tracegroupgap": 0
        },
        "margin": {
         "t": 60
        },
        "template": {
         "data": {
          "bar": [
           {
            "error_x": {
             "color": "#2a3f5f"
            },
            "error_y": {
             "color": "#2a3f5f"
            },
            "marker": {
             "line": {
              "color": "#E5ECF6",
              "width": 0.5
             }
            },
            "type": "bar"
           }
          ],
          "barpolar": [
           {
            "marker": {
             "line": {
              "color": "#E5ECF6",
              "width": 0.5
             }
            },
            "type": "barpolar"
           }
          ],
          "carpet": [
           {
            "aaxis": {
             "endlinecolor": "#2a3f5f",
             "gridcolor": "white",
             "linecolor": "white",
             "minorgridcolor": "white",
             "startlinecolor": "#2a3f5f"
            },
            "baxis": {
             "endlinecolor": "#2a3f5f",
             "gridcolor": "white",
             "linecolor": "white",
             "minorgridcolor": "white",
             "startlinecolor": "#2a3f5f"
            },
            "type": "carpet"
           }
          ],
          "choropleth": [
           {
            "colorbar": {
             "outlinewidth": 0,
             "ticks": ""
            },
            "type": "choropleth"
           }
          ],
          "contour": [
           {
            "colorbar": {
             "outlinewidth": 0,
             "ticks": ""
            },
            "colorscale": [
             [
              0,
              "#0d0887"
             ],
             [
              0.1111111111111111,
              "#46039f"
             ],
             [
              0.2222222222222222,
              "#7201a8"
             ],
             [
              0.3333333333333333,
              "#9c179e"
             ],
             [
              0.4444444444444444,
              "#bd3786"
             ],
             [
              0.5555555555555556,
              "#d8576b"
             ],
             [
              0.6666666666666666,
              "#ed7953"
             ],
             [
              0.7777777777777778,
              "#fb9f3a"
             ],
             [
              0.8888888888888888,
              "#fdca26"
             ],
             [
              1,
              "#f0f921"
             ]
            ],
            "type": "contour"
           }
          ],
          "contourcarpet": [
           {
            "colorbar": {
             "outlinewidth": 0,
             "ticks": ""
            },
            "type": "contourcarpet"
           }
          ],
          "heatmap": [
           {
            "colorbar": {
             "outlinewidth": 0,
             "ticks": ""
            },
            "colorscale": [
             [
              0,
              "#0d0887"
             ],
             [
              0.1111111111111111,
              "#46039f"
             ],
             [
              0.2222222222222222,
              "#7201a8"
             ],
             [
              0.3333333333333333,
              "#9c179e"
             ],
             [
              0.4444444444444444,
              "#bd3786"
             ],
             [
              0.5555555555555556,
              "#d8576b"
             ],
             [
              0.6666666666666666,
              "#ed7953"
             ],
             [
              0.7777777777777778,
              "#fb9f3a"
             ],
             [
              0.8888888888888888,
              "#fdca26"
             ],
             [
              1,
              "#f0f921"
             ]
            ],
            "type": "heatmap"
           }
          ],
          "heatmapgl": [
           {
            "colorbar": {
             "outlinewidth": 0,
             "ticks": ""
            },
            "colorscale": [
             [
              0,
              "#0d0887"
             ],
             [
              0.1111111111111111,
              "#46039f"
             ],
             [
              0.2222222222222222,
              "#7201a8"
             ],
             [
              0.3333333333333333,
              "#9c179e"
             ],
             [
              0.4444444444444444,
              "#bd3786"
             ],
             [
              0.5555555555555556,
              "#d8576b"
             ],
             [
              0.6666666666666666,
              "#ed7953"
             ],
             [
              0.7777777777777778,
              "#fb9f3a"
             ],
             [
              0.8888888888888888,
              "#fdca26"
             ],
             [
              1,
              "#f0f921"
             ]
            ],
            "type": "heatmapgl"
           }
          ],
          "histogram": [
           {
            "marker": {
             "colorbar": {
              "outlinewidth": 0,
              "ticks": ""
             }
            },
            "type": "histogram"
           }
          ],
          "histogram2d": [
           {
            "colorbar": {
             "outlinewidth": 0,
             "ticks": ""
            },
            "colorscale": [
             [
              0,
              "#0d0887"
             ],
             [
              0.1111111111111111,
              "#46039f"
             ],
             [
              0.2222222222222222,
              "#7201a8"
             ],
             [
              0.3333333333333333,
              "#9c179e"
             ],
             [
              0.4444444444444444,
              "#bd3786"
             ],
             [
              0.5555555555555556,
              "#d8576b"
             ],
             [
              0.6666666666666666,
              "#ed7953"
             ],
             [
              0.7777777777777778,
              "#fb9f3a"
             ],
             [
              0.8888888888888888,
              "#fdca26"
             ],
             [
              1,
              "#f0f921"
             ]
            ],
            "type": "histogram2d"
           }
          ],
          "histogram2dcontour": [
           {
            "colorbar": {
             "outlinewidth": 0,
             "ticks": ""
            },
            "colorscale": [
             [
              0,
              "#0d0887"
             ],
             [
              0.1111111111111111,
              "#46039f"
             ],
             [
              0.2222222222222222,
              "#7201a8"
             ],
             [
              0.3333333333333333,
              "#9c179e"
             ],
             [
              0.4444444444444444,
              "#bd3786"
             ],
             [
              0.5555555555555556,
              "#d8576b"
             ],
             [
              0.6666666666666666,
              "#ed7953"
             ],
             [
              0.7777777777777778,
              "#fb9f3a"
             ],
             [
              0.8888888888888888,
              "#fdca26"
             ],
             [
              1,
              "#f0f921"
             ]
            ],
            "type": "histogram2dcontour"
           }
          ],
          "mesh3d": [
           {
            "colorbar": {
             "outlinewidth": 0,
             "ticks": ""
            },
            "type": "mesh3d"
           }
          ],
          "parcoords": [
           {
            "line": {
             "colorbar": {
              "outlinewidth": 0,
              "ticks": ""
             }
            },
            "type": "parcoords"
           }
          ],
          "pie": [
           {
            "automargin": true,
            "type": "pie"
           }
          ],
          "scatter": [
           {
            "marker": {
             "colorbar": {
              "outlinewidth": 0,
              "ticks": ""
             }
            },
            "type": "scatter"
           }
          ],
          "scatter3d": [
           {
            "line": {
             "colorbar": {
              "outlinewidth": 0,
              "ticks": ""
             }
            },
            "marker": {
             "colorbar": {
              "outlinewidth": 0,
              "ticks": ""
             }
            },
            "type": "scatter3d"
           }
          ],
          "scattercarpet": [
           {
            "marker": {
             "colorbar": {
              "outlinewidth": 0,
              "ticks": ""
             }
            },
            "type": "scattercarpet"
           }
          ],
          "scattergeo": [
           {
            "marker": {
             "colorbar": {
              "outlinewidth": 0,
              "ticks": ""
             }
            },
            "type": "scattergeo"
           }
          ],
          "scattergl": [
           {
            "marker": {
             "colorbar": {
              "outlinewidth": 0,
              "ticks": ""
             }
            },
            "type": "scattergl"
           }
          ],
          "scattermapbox": [
           {
            "marker": {
             "colorbar": {
              "outlinewidth": 0,
              "ticks": ""
             }
            },
            "type": "scattermapbox"
           }
          ],
          "scatterpolar": [
           {
            "marker": {
             "colorbar": {
              "outlinewidth": 0,
              "ticks": ""
             }
            },
            "type": "scatterpolar"
           }
          ],
          "scatterpolargl": [
           {
            "marker": {
             "colorbar": {
              "outlinewidth": 0,
              "ticks": ""
             }
            },
            "type": "scatterpolargl"
           }
          ],
          "scatterternary": [
           {
            "marker": {
             "colorbar": {
              "outlinewidth": 0,
              "ticks": ""
             }
            },
            "type": "scatterternary"
           }
          ],
          "surface": [
           {
            "colorbar": {
             "outlinewidth": 0,
             "ticks": ""
            },
            "colorscale": [
             [
              0,
              "#0d0887"
             ],
             [
              0.1111111111111111,
              "#46039f"
             ],
             [
              0.2222222222222222,
              "#7201a8"
             ],
             [
              0.3333333333333333,
              "#9c179e"
             ],
             [
              0.4444444444444444,
              "#bd3786"
             ],
             [
              0.5555555555555556,
              "#d8576b"
             ],
             [
              0.6666666666666666,
              "#ed7953"
             ],
             [
              0.7777777777777778,
              "#fb9f3a"
             ],
             [
              0.8888888888888888,
              "#fdca26"
             ],
             [
              1,
              "#f0f921"
             ]
            ],
            "type": "surface"
           }
          ],
          "table": [
           {
            "cells": {
             "fill": {
              "color": "#EBF0F8"
             },
             "line": {
              "color": "white"
             }
            },
            "header": {
             "fill": {
              "color": "#C8D4E3"
             },
             "line": {
              "color": "white"
             }
            },
            "type": "table"
           }
          ]
         },
         "layout": {
          "annotationdefaults": {
           "arrowcolor": "#2a3f5f",
           "arrowhead": 0,
           "arrowwidth": 1
          },
          "autotypenumbers": "strict",
          "coloraxis": {
           "colorbar": {
            "outlinewidth": 0,
            "ticks": ""
           }
          },
          "colorscale": {
           "diverging": [
            [
             0,
             "#8e0152"
            ],
            [
             0.1,
             "#c51b7d"
            ],
            [
             0.2,
             "#de77ae"
            ],
            [
             0.3,
             "#f1b6da"
            ],
            [
             0.4,
             "#fde0ef"
            ],
            [
             0.5,
             "#f7f7f7"
            ],
            [
             0.6,
             "#e6f5d0"
            ],
            [
             0.7,
             "#b8e186"
            ],
            [
             0.8,
             "#7fbc41"
            ],
            [
             0.9,
             "#4d9221"
            ],
            [
             1,
             "#276419"
            ]
           ],
           "sequential": [
            [
             0,
             "#0d0887"
            ],
            [
             0.1111111111111111,
             "#46039f"
            ],
            [
             0.2222222222222222,
             "#7201a8"
            ],
            [
             0.3333333333333333,
             "#9c179e"
            ],
            [
             0.4444444444444444,
             "#bd3786"
            ],
            [
             0.5555555555555556,
             "#d8576b"
            ],
            [
             0.6666666666666666,
             "#ed7953"
            ],
            [
             0.7777777777777778,
             "#fb9f3a"
            ],
            [
             0.8888888888888888,
             "#fdca26"
            ],
            [
             1,
             "#f0f921"
            ]
           ],
           "sequentialminus": [
            [
             0,
             "#0d0887"
            ],
            [
             0.1111111111111111,
             "#46039f"
            ],
            [
             0.2222222222222222,
             "#7201a8"
            ],
            [
             0.3333333333333333,
             "#9c179e"
            ],
            [
             0.4444444444444444,
             "#bd3786"
            ],
            [
             0.5555555555555556,
             "#d8576b"
            ],
            [
             0.6666666666666666,
             "#ed7953"
            ],
            [
             0.7777777777777778,
             "#fb9f3a"
            ],
            [
             0.8888888888888888,
             "#fdca26"
            ],
            [
             1,
             "#f0f921"
            ]
           ]
          },
          "colorway": [
           "#636efa",
           "#EF553B",
           "#00cc96",
           "#ab63fa",
           "#FFA15A",
           "#19d3f3",
           "#FF6692",
           "#B6E880",
           "#FF97FF",
           "#FECB52"
          ],
          "font": {
           "color": "#2a3f5f"
          },
          "geo": {
           "bgcolor": "white",
           "lakecolor": "white",
           "landcolor": "#E5ECF6",
           "showlakes": true,
           "showland": true,
           "subunitcolor": "white"
          },
          "hoverlabel": {
           "align": "left"
          },
          "hovermode": "closest",
          "mapbox": {
           "style": "light"
          },
          "paper_bgcolor": "white",
          "plot_bgcolor": "#E5ECF6",
          "polar": {
           "angularaxis": {
            "gridcolor": "white",
            "linecolor": "white",
            "ticks": ""
           },
           "bgcolor": "#E5ECF6",
           "radialaxis": {
            "gridcolor": "white",
            "linecolor": "white",
            "ticks": ""
           }
          },
          "scene": {
           "xaxis": {
            "backgroundcolor": "#E5ECF6",
            "gridcolor": "white",
            "gridwidth": 2,
            "linecolor": "white",
            "showbackground": true,
            "ticks": "",
            "zerolinecolor": "white"
           },
           "yaxis": {
            "backgroundcolor": "#E5ECF6",
            "gridcolor": "white",
            "gridwidth": 2,
            "linecolor": "white",
            "showbackground": true,
            "ticks": "",
            "zerolinecolor": "white"
           },
           "zaxis": {
            "backgroundcolor": "#E5ECF6",
            "gridcolor": "white",
            "gridwidth": 2,
            "linecolor": "white",
            "showbackground": true,
            "ticks": "",
            "zerolinecolor": "white"
           }
          },
          "shapedefaults": {
           "line": {
            "color": "#2a3f5f"
           }
          },
          "ternary": {
           "aaxis": {
            "gridcolor": "white",
            "linecolor": "white",
            "ticks": ""
           },
           "baxis": {
            "gridcolor": "white",
            "linecolor": "white",
            "ticks": ""
           },
           "bgcolor": "#E5ECF6",
           "caxis": {
            "gridcolor": "white",
            "linecolor": "white",
            "ticks": ""
           }
          },
          "title": {
           "x": 0.05
          },
          "xaxis": {
           "automargin": true,
           "gridcolor": "white",
           "linecolor": "white",
           "ticks": "",
           "title": {
            "standoff": 15
           },
           "zerolinecolor": "white",
           "zerolinewidth": 2
          },
          "yaxis": {
           "automargin": true,
           "gridcolor": "white",
           "linecolor": "white",
           "ticks": "",
           "title": {
            "standoff": 15
           },
           "zerolinecolor": "white",
           "zerolinewidth": 2
          }
         }
        },
        "xaxis": {
         "anchor": "y",
         "domain": [
          0,
          1
         ],
         "title": {
          "text": "x"
         }
        },
        "yaxis": {
         "anchor": "x",
         "domain": [
          0,
          1
         ],
         "title": {
          "text": "y"
         }
        }
       }
      }
     },
     "metadata": {},
     "output_type": "display_data"
    }
   ],
   "source": [
    "f0,t = track_pitch_fftmax(test_aud,1024,512,44100)\n",
    "px.line(x=t,y=f0)"
   ]
  },
  {
   "cell_type": "markdown",
   "metadata": {},
   "source": [
    "# C. Voicing Detection\n",
    "\n",
    "- [1 points] Take the  function [rmsDb] = extract_rms(xb) from the second assignment which takes the blocked audio as input and computes the RMS (Root Mean Square) amplitude of each block.\n",
    "- [6 points] Implement a function [mask] = create_voicing_mask(rmsDb, thresholdDb) which takes a vector of decibel values for the different blocks of audio and creates a binary mask based on the threshold parameter. Note: A binary mask in this case is a simple column vector of the same size as 'rmsDb' containing 0's and 1's only. The value of the mask at an index is 0 if the rmsDb value at that index is less than 'thresholdDb' and the value is 1 if 'rmsDb' value at that index is greater than or equal to the threshold. \n",
    "- [6 points] Implement a function [f0Adj] = apply_voicing_mask(f0, mask)  which applies the voicing mask to the previously computed f0 so that the f0 of blocks with low energy is set to 0."
   ]
  },
  {
   "cell_type": "markdown",
   "metadata": {},
   "source": [
    "## Take the  function [rmsDb] = extract_rms(xb) from the second assignment which takes the blocked audio as input and computes the RMS (Root Mean Square) amplitude of each block."
   ]
  },
  {
   "cell_type": "code",
   "execution_count": 182,
   "metadata": {},
   "outputs": [],
   "source": [
    "def extract_rms(xb):\n",
    "    # number of results\n",
    "    numBlocks = xb.shape[0]\n",
    "    # allocate memory\n",
    "    vrms = np.zeros(numBlocks)\n",
    "    for n in range(0, numBlocks):\n",
    "        # calculate the rms\n",
    "        vrms[n] = np.sqrt(np.dot(xb[n,:], xb[n,:]) / xb.shape[1])\n",
    "    # convert to dB\n",
    "    epsilon = 1e-5  # -100dB\n",
    "    vrms[vrms < epsilon] = epsilon\n",
    "    vrms = 20 * np.log10(vrms)\n",
    "    return (vrms)"
   ]
  },
  {
   "cell_type": "markdown",
   "metadata": {},
   "source": [
    "## [mask] = create_voicing_mask(rmsDb, thresholdDb) which takes a vector of decibel values for the different blocks of audio and creates a binary mask based on the threshold parameter."
   ]
  },
  {
   "cell_type": "code",
   "execution_count": 183,
   "metadata": {},
   "outputs": [],
   "source": [
    "def create_voicing_mask(rmsDb,thresholdDb):\n",
    "    # mask = np.zeros(rmsDb.shape[0])\n",
    "    f = lambda x : 1 if x > thresholdDb else 0\n",
    "    apply_threshold = np.vectorize(f)\n",
    "    return(apply_threshold(rmsDb))"
   ]
  },
  {
   "cell_type": "markdown",
   "metadata": {},
   "source": [
    "### Testing create_voicing_mask"
   ]
  },
  {
   "cell_type": "code",
   "execution_count": 185,
   "metadata": {},
   "outputs": [
    {
     "data": {
      "text/plain": [
       "array([1, 1, 1, 0, 0, 0, 1])"
      ]
     },
     "execution_count": 185,
     "metadata": {},
     "output_type": "execute_result"
    }
   ],
   "source": [
    "rms=np.array([100,101,200,1,3,5,50])\n",
    "thresh = 30\n",
    "create_voicing_mask(rms,thresh)"
   ]
  },
  {
   "cell_type": "markdown",
   "metadata": {},
   "source": [
    "## [f0Adj] = apply_voicing_mask(f0, mask)  which applies the voicing mask to the previously computed f0 so that the f0 of blocks with low energy is set to 0."
   ]
  },
  {
   "cell_type": "code",
   "execution_count": 193,
   "metadata": {},
   "outputs": [],
   "source": [
    "def apply_voicing_mask(f0,mask):\n",
    "    return(f0*mask)"
   ]
  },
  {
   "cell_type": "markdown",
   "metadata": {},
   "source": [
    "### Testing apply_voicing_mask"
   ]
  },
  {
   "cell_type": "code",
   "execution_count": 190,
   "metadata": {},
   "outputs": [],
   "source": [
    "randomLabel = np.random.randint(2, size=f0.shape[0])"
   ]
  },
  {
   "cell_type": "code",
   "execution_count": 194,
   "metadata": {},
   "outputs": [
    {
     "data": {
      "text/plain": [
       "array([   0.        ,    0.        ,    0.        ,    0.        ,\n",
       "          0.        , 1507.32421875, 1507.32421875, 1507.32421875,\n",
       "       1507.32421875,    0.        , 1507.32421875, 1507.32421875,\n",
       "          0.        , 1507.32421875,    0.        ,    0.        ,\n",
       "       1507.32421875, 1507.32421875, 1507.32421875, 1507.32421875,\n",
       "       1507.32421875,    0.        ,    0.        ,    0.        ,\n",
       "          0.        ,    0.        , 1507.32421875,    0.        ,\n",
       "          0.        , 1507.32421875,    0.        ,    0.        ,\n",
       "       1507.32421875,    0.        ,    0.        ,    0.        ,\n",
       "       1507.32421875, 1507.32421875,    0.        ,    0.        ,\n",
       "       1507.32421875,    0.        ,    0.        ,    0.        ,\n",
       "       1507.32421875, 1507.32421875,    0.        , 1507.32421875,\n",
       "       1507.32421875, 1507.32421875, 1507.32421875,    0.        ,\n",
       "       1507.32421875,    0.        ,    0.        ,    0.        ,\n",
       "       1507.32421875, 1507.32421875,    0.        ,    0.        ,\n",
       "          0.        , 1507.32421875,    0.        ,    0.        ,\n",
       "          0.        ,    0.        , 1507.32421875, 1507.32421875,\n",
       "          0.        , 1507.32421875,    0.        , 1507.32421875,\n",
       "       1507.32421875,    0.        ,    0.        , 1507.32421875,\n",
       "          0.        ,    0.        ,    0.        , 1507.32421875,\n",
       "       1507.32421875, 1507.32421875, 1507.32421875, 1507.32421875,\n",
       "          0.        ,    0.        ,    0.        ])"
      ]
     },
     "execution_count": 194,
     "metadata": {},
     "output_type": "execute_result"
    }
   ],
   "source": [
    "randomLabel * f0"
   ]
  },
  {
   "cell_type": "markdown",
   "metadata": {},
   "source": [
    "# D. Different evaluation metrics\n",
    "- [5 points] Implement a function [pfp] = eval_voiced_fp(estimation, annotation) that computes the percentage of false positives for your fundamental frequency estimation\n",
    "False Positive : The denominator would be the number of blocks for which annotation = 0. The numerator would be how many of these blocks were classified as voiced (with a fundamental frequency not equal to 0) is your estimation. \n",
    "- [5 points] Implement a function [pfn] = eval_voiced_fn(estimation, annotation) that computes the percentage of false negatives for your fundamental frequency estimation\n",
    "False Negative: In this case the denominator would be number of blocks which have non-zero fundamental frequency in the annotation. The numerator would be number of blocks out of these that were detected as zero is the estimation.\n",
    "- [5 points] Now modify the eval_pitchtrack() method that you wrote in Assignment 1 to [errCentRms, pfp, pfn] = eval_pitchtrack_v2(estimation, annotation), to return all the 3 performance metrics for your fundamental frequency estimation.  Note: the errorCentRms computation might need to slightly change now considering that your estimation might also contain zeros."
   ]
  },
  {
   "cell_type": "markdown",
   "metadata": {},
   "source": [
    "## [5 points] Implement a function [pfp] = eval_voiced_fp(estimation, annotation) that computes the percentage of false positives for your fundamental frequency estimation\n",
    "False Positive : The denominator would be the number of blocks for which annotation = 0. The numerator would be how many of these blocks were classified as voiced (with a fundamental frequency not equal to 0) is your estimation. "
   ]
  },
  {
   "cell_type": "code",
   "execution_count": 210,
   "metadata": {},
   "outputs": [],
   "source": [
    "def eval_voiced_fp(estimation, annotation):\n",
    "    m = (annotation==0)\n",
    "    denom=m.sum()\n",
    "    num = ((m*estimation) > 0).sum()\n",
    "    pfp = num/denom\n",
    "    return pfp"
   ]
  },
  {
   "cell_type": "markdown",
   "metadata": {},
   "source": [
    "### Testing eval_voiced_fp"
   ]
  },
  {
   "cell_type": "code",
   "execution_count": 211,
   "metadata": {},
   "outputs": [
    {
     "data": {
      "text/plain": [
       "0.6666666666666666"
      ]
     },
     "execution_count": 211,
     "metadata": {},
     "output_type": "execute_result"
    }
   ],
   "source": [
    "est = np.array([0,1,1,0])\n",
    "ann = np.array([1,0,0,0])\n",
    "eval_voiced_fp(est,ann)"
   ]
  },
  {
   "cell_type": "markdown",
   "metadata": {},
   "source": [
    "## [5 points] Implement a function [pfn] = eval_voiced_fn(estimation, annotation) that computes the percentage of false negatives for your fundamental frequency estimation\n",
    "False Negative: In this case the denominator would be number of blocks which have non-zero fundamental frequency in the annotation. The numerator would be number of blocks out of these that were detected as zero is the estimation."
   ]
  },
  {
   "cell_type": "code",
   "execution_count": 227,
   "metadata": {},
   "outputs": [],
   "source": [
    "def eval_voiced_fn(estimation, annotation):\n",
    "    m = (annotation!=0)\n",
    "    denom=m.sum()\n",
    "    # Adding one to all elements in estimation so that only elements that are non-zero in annotation are set to zero in the calculation below:\n",
    "    num = ((m*(estimation+1)) == 1).sum()  # counting number of elements that are non zero in annotation but 1 in annotation (after adding one to every element)\n",
    "    pfn = num/denom\n",
    "    return pfn"
   ]
  },
  {
   "cell_type": "markdown",
   "metadata": {},
   "source": [
    "### Testing eval_voiced_fn"
   ]
  },
  {
   "cell_type": "code",
   "execution_count": 229,
   "metadata": {},
   "outputs": [
    {
     "data": {
      "text/plain": [
       "0.5"
      ]
     },
     "execution_count": 229,
     "metadata": {},
     "output_type": "execute_result"
    }
   ],
   "source": [
    "est = np.array([0,1,1,0,0])\n",
    "ann = np.array([1,1,1,0,1])\n",
    "eval_voiced_fn(est,ann)\n",
    "# (ann!=0)*est"
   ]
  },
  {
   "cell_type": "markdown",
   "metadata": {},
   "source": [
    "## [5 points] Now modify the eval_pitchtrack() method that you wrote in Assignment 1 to [errCentRms, pfp, pfn] = eval_pitchtrack_v2(estimation, annotation), to return all the 3 performance metrics for your fundamental frequency estimation.  Note: the errorCentRms computation might need to slightly change now considering that your estimation might also contain zeros."
   ]
  },
  {
   "cell_type": "code",
   "execution_count": 246,
   "metadata": {},
   "outputs": [],
   "source": [
    "def convert_freq2midi(fInHz, fA4InHz = 440):\n",
    "    def convert_freq2midi_scalar(f, fA4InHz):\n",
    "        if f <= 0:\n",
    "            return 0\n",
    "        else:\n",
    "            return (69 + 12 * np.log2(f/fA4InHz))\n",
    "    fInHz = np.asarray(fInHz)\n",
    "    if fInHz.ndim == 0:\n",
    "       return convert_freq2midi_scalar(fInHz,fA4InHz)\n",
    "    midi = np.zeros(fInHz.shape)\n",
    "    for k,f in enumerate(fInHz):\n",
    "        midi[k] =  convert_freq2midi_scalar(f,fA4InHz)\n",
    "    return (midi)\n",
    "\n",
    "def eval_pitchtrack_v2(estimateInHz, groundtruthInHz):\n",
    "    if np.abs(groundtruthInHz).sum() <= 0:\n",
    "        return 0\n",
    "    # truncate longer vector\n",
    "    if groundtruthInHz.size < estimateInHz.size:\n",
    "        estimateInHz = estimateInHz[np.arange(0,groundtruthInHz.size)]\n",
    "    elif estimateInHz.size < groundtruthInHz.size:\n",
    "        groundtruthInHz = groundtruthInHz[np.arange(0,estimateInHz.size)]\n",
    "    #calculating rms error\n",
    "    diffInCent = 100*(convert_freq2midi(estimateInHz) - convert_freq2midi(groundtruthInHz))\n",
    "    # rms = np.sqrt(np.mean(diffInCent[groundtruthInHz != 0]**2))\n",
    "    rms = np.sqrt(np.mean(diffInCent**2))\n",
    "    pfp = eval_voiced_fp(estimateInHz,groundtruthInHz)\n",
    "    pfn = eval_voiced_fn(estimateInHz, groundtruthInHz)\n",
    "    return rms,pfp,pfn"
   ]
  },
  {
   "cell_type": "markdown",
   "metadata": {},
   "source": [
    "### Testing eval_pitchtrack_v2"
   ]
  },
  {
   "cell_type": "code",
   "execution_count": 247,
   "metadata": {},
   "outputs": [
    {
     "data": {
      "text/plain": [
       "(4363.943171032363, 0.5, 0.3333333333333333)"
      ]
     },
     "execution_count": 247,
     "metadata": {},
     "output_type": "execute_result"
    }
   ],
   "source": [
    "est = np.array([ 0, 440,440,0,440])\n",
    "ann = np.array([440, 0 ,440,0,440])\n",
    "diffInCent = 100*(convert_freq2midi(est) - convert_freq2midi(ann))\n",
    "eval_pitchtrack_v2(est,ann)\n",
    "# (ann!=0)*est"
   ]
  },
  {
   "cell_type": "code",
   "execution_count": 243,
   "metadata": {},
   "outputs": [
    {
     "data": {
      "text/plain": [
       "array([-6900.,     0.,     0.])"
      ]
     },
     "execution_count": 243,
     "metadata": {},
     "output_type": "execute_result"
    }
   ],
   "source": [
    "diffInCent[ann != 0]"
   ]
  },
  {
   "cell_type": "code",
   "execution_count": 244,
   "metadata": {},
   "outputs": [
    {
     "data": {
      "text/plain": [
       "array([-6900.,  6900.,     0.,     0.,     0.])"
      ]
     },
     "execution_count": 244,
     "metadata": {},
     "output_type": "execute_result"
    }
   ],
   "source": [
    "diffInCent"
   ]
  },
  {
   "cell_type": "code",
   "execution_count": 245,
   "metadata": {},
   "outputs": [
    {
     "data": {
      "text/plain": [
       "array([440,   0, 440,   0, 440])"
      ]
     },
     "execution_count": 245,
     "metadata": {},
     "output_type": "execute_result"
    }
   ],
   "source": [
    "ann"
   ]
  },
  {
   "cell_type": "code",
   "execution_count": null,
   "metadata": {},
   "outputs": [],
   "source": []
  }
 ],
 "metadata": {
  "interpreter": {
   "hash": "aee8b7b246df8f9039afb4144a1f6fd8d2ca17a180786b69acc140d282b71a49"
  },
  "kernelspec": {
   "display_name": "Python 3.9.7 64-bit",
   "name": "python3"
  },
  "language_info": {
   "codemirror_mode": {
    "name": "ipython",
    "version": 3
   },
   "file_extension": ".py",
   "mimetype": "text/x-python",
   "name": "python",
   "nbconvert_exporter": "python",
   "pygments_lexer": "ipython3",
   "version": "3.9.7"
  },
  "orig_nbformat": 4
 },
 "nbformat": 4,
 "nbformat_minor": 2
}
